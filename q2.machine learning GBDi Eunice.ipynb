{
 "cells": [
  {
   "cell_type": "markdown",
   "metadata": {},
   "source": [
    "### 1. Load & Sample Data"
   ]
  },
  {
   "cell_type": "markdown",
   "metadata": {},
   "source": [
    "#### Year 2018"
   ]
  },
  {
   "cell_type": "code",
   "execution_count": 2,
   "metadata": {},
   "outputs": [
    {
     "data": {
      "text/html": [
       "<div>\n",
       "<style scoped>\n",
       "    .dataframe tbody tr th:only-of-type {\n",
       "        vertical-align: middle;\n",
       "    }\n",
       "\n",
       "    .dataframe tbody tr th {\n",
       "        vertical-align: top;\n",
       "    }\n",
       "\n",
       "    .dataframe thead th {\n",
       "        text-align: right;\n",
       "    }\n",
       "</style>\n",
       "<table border=\"1\" class=\"dataframe\">\n",
       "  <thead>\n",
       "    <tr style=\"text-align: right;\">\n",
       "      <th></th>\n",
       "      <th>sex</th>\n",
       "      <th>age</th>\n",
       "      <th>occu</th>\n",
       "      <th>adate</th>\n",
       "      <th>atime</th>\n",
       "      <th>hdate</th>\n",
       "      <th>htime</th>\n",
       "      <th>aplace</th>\n",
       "      <th>aampur</th>\n",
       "      <th>atumbon</th>\n",
       "      <th>...</th>\n",
       "      <th>injt</th>\n",
       "      <th>injfrom</th>\n",
       "      <th>risk1</th>\n",
       "      <th>risk2</th>\n",
       "      <th>risk3</th>\n",
       "      <th>risk4</th>\n",
       "      <th>risk5</th>\n",
       "      <th>hprov</th>\n",
       "      <th>rdate</th>\n",
       "      <th>mass_casualty</th>\n",
       "    </tr>\n",
       "  </thead>\n",
       "  <tbody>\n",
       "    <tr>\n",
       "      <td>0</td>\n",
       "      <td>1</td>\n",
       "      <td>34.0</td>\n",
       "      <td>7</td>\n",
       "      <td>1/1/2018</td>\n",
       "      <td>1/1/2018</td>\n",
       "      <td>1/1/2018</td>\n",
       "      <td>1/1/2018</td>\n",
       "      <td>22</td>\n",
       "      <td>1</td>\n",
       "      <td>3</td>\n",
       "      <td>...</td>\n",
       "      <td>2</td>\n",
       "      <td>21</td>\n",
       "      <td>1</td>\n",
       "      <td>0</td>\n",
       "      <td>NaN</td>\n",
       "      <td>0</td>\n",
       "      <td>0</td>\n",
       "      <td>NaN</td>\n",
       "      <td>2/1/2018</td>\n",
       "      <td>0.0</td>\n",
       "    </tr>\n",
       "    <tr>\n",
       "      <td>1</td>\n",
       "      <td>1</td>\n",
       "      <td>43.0</td>\n",
       "      <td>2</td>\n",
       "      <td>1/1/2018</td>\n",
       "      <td>1/1/2018</td>\n",
       "      <td>1/1/2018</td>\n",
       "      <td>1/1/2018</td>\n",
       "      <td>76</td>\n",
       "      <td>6</td>\n",
       "      <td>6</td>\n",
       "      <td>...</td>\n",
       "      <td>2</td>\n",
       "      <td>5</td>\n",
       "      <td>1</td>\n",
       "      <td>0</td>\n",
       "      <td>NaN</td>\n",
       "      <td>0</td>\n",
       "      <td>0</td>\n",
       "      <td>NaN</td>\n",
       "      <td>4/1/2018</td>\n",
       "      <td>0.0</td>\n",
       "    </tr>\n",
       "    <tr>\n",
       "      <td>2</td>\n",
       "      <td>1</td>\n",
       "      <td>62.0</td>\n",
       "      <td>7</td>\n",
       "      <td>1/1/2018</td>\n",
       "      <td>1/1/2018</td>\n",
       "      <td>1/1/2018</td>\n",
       "      <td>1/1/2018</td>\n",
       "      <td>49</td>\n",
       "      <td>NaN</td>\n",
       "      <td>NaN</td>\n",
       "      <td>...</td>\n",
       "      <td>1</td>\n",
       "      <td>NaN</td>\n",
       "      <td>0</td>\n",
       "      <td>0</td>\n",
       "      <td>0</td>\n",
       "      <td>0</td>\n",
       "      <td>N</td>\n",
       "      <td>NaN</td>\n",
       "      <td>0/0/0 00:00:00</td>\n",
       "      <td>0.0</td>\n",
       "    </tr>\n",
       "    <tr>\n",
       "      <td>3</td>\n",
       "      <td>2</td>\n",
       "      <td>43.0</td>\n",
       "      <td>5</td>\n",
       "      <td>1/1/2018</td>\n",
       "      <td>1/1/2018</td>\n",
       "      <td>1/1/2018</td>\n",
       "      <td>1/1/2018</td>\n",
       "      <td>44</td>\n",
       "      <td>6</td>\n",
       "      <td>7</td>\n",
       "      <td>...</td>\n",
       "      <td>1</td>\n",
       "      <td>21</td>\n",
       "      <td>0</td>\n",
       "      <td>N</td>\n",
       "      <td>0</td>\n",
       "      <td>0</td>\n",
       "      <td>N</td>\n",
       "      <td>NaN</td>\n",
       "      <td>0/0/0 00:00:00</td>\n",
       "      <td>0.0</td>\n",
       "    </tr>\n",
       "    <tr>\n",
       "      <td>4</td>\n",
       "      <td>1</td>\n",
       "      <td>22.0</td>\n",
       "      <td>7</td>\n",
       "      <td>1/1/2018</td>\n",
       "      <td>1/1/2018</td>\n",
       "      <td>1/1/2018</td>\n",
       "      <td>1/1/2018</td>\n",
       "      <td>32</td>\n",
       "      <td>5</td>\n",
       "      <td>8</td>\n",
       "      <td>...</td>\n",
       "      <td>1</td>\n",
       "      <td>12</td>\n",
       "      <td>0</td>\n",
       "      <td>0</td>\n",
       "      <td>NaN</td>\n",
       "      <td>1</td>\n",
       "      <td>0</td>\n",
       "      <td>NaN</td>\n",
       "      <td>0/0/0 00:00:00</td>\n",
       "      <td>0.0</td>\n",
       "    </tr>\n",
       "  </tbody>\n",
       "</table>\n",
       "<p>5 rows × 24 columns</p>\n",
       "</div>"
      ],
      "text/plain": [
       "   sex   age occu     adate     atime     hdate     htime aplace aampur  \\\n",
       "0    1  34.0    7  1/1/2018  1/1/2018  1/1/2018  1/1/2018     22      1   \n",
       "1    1  43.0    2  1/1/2018  1/1/2018  1/1/2018  1/1/2018     76      6   \n",
       "2    1  62.0    7  1/1/2018  1/1/2018  1/1/2018  1/1/2018     49    NaN   \n",
       "3    2  43.0    5  1/1/2018  1/1/2018  1/1/2018  1/1/2018     44      6   \n",
       "4    1  22.0    7  1/1/2018  1/1/2018  1/1/2018  1/1/2018     32      5   \n",
       "\n",
       "  atumbon  ... injt injfrom risk1 risk2 risk3 risk4 risk5 hprov  \\\n",
       "0       3  ...    2      21     1     0   NaN     0     0   NaN   \n",
       "1       6  ...    2       5     1     0   NaN     0     0   NaN   \n",
       "2     NaN  ...    1     NaN     0     0     0     0     N   NaN   \n",
       "3       7  ...    1      21     0     N     0     0     N   NaN   \n",
       "4       8  ...    1      12     0     0   NaN     1     0   NaN   \n",
       "\n",
       "            rdate mass_casualty  \n",
       "0        2/1/2018           0.0  \n",
       "1        4/1/2018           0.0  \n",
       "2  0/0/0 00:00:00           0.0  \n",
       "3  0/0/0 00:00:00           0.0  \n",
       "4  0/0/0 00:00:00           0.0  \n",
       "\n",
       "[5 rows x 24 columns]"
      ]
     },
     "execution_count": 2,
     "metadata": {},
     "output_type": "execute_result"
    }
   ],
   "source": [
    "data2018 = pd.read_csv('is-2018.csv')  \n",
    "data2018.head()"
   ]
  },
  {
   "cell_type": "markdown",
   "metadata": {},
   "source": [
    "#### Handle Missing Values (2018)"
   ]
  },
  {
   "cell_type": "code",
   "execution_count": 10,
   "metadata": {},
   "outputs": [
    {
     "data": {
      "text/plain": [
       "40      14795\n",
       "57      10722\n",
       "50       8767\n",
       "90       8660\n",
       "52       6294\n",
       "        ...  \n",
       "22.0        2\n",
       "98.0        2\n",
       "97.0        1\n",
       "35.0        1\n",
       "95.0        1\n",
       "Name: aplace, Length: 168, dtype: int64"
      ]
     },
     "execution_count": 10,
     "metadata": {},
     "output_type": "execute_result"
    }
   ],
   "source": [
    "# fill the empty cells with NA \n",
    "data2018['aplace'].fillna('NA', inplace = True)\n",
    "\n",
    "# check 'aplace' column\n",
    "data2018['aplace'].value_counts()"
   ]
  },
  {
   "cell_type": "code",
   "execution_count": 11,
   "metadata": {},
   "outputs": [
    {
     "data": {
      "text/plain": [
       "1.0     76210\n",
       "1       14494\n",
       "5.0     10033\n",
       "7.0      9788\n",
       "4.0      9165\n",
       "        ...  \n",
       "27          1\n",
       "34          1\n",
       "97.0        1\n",
       "96.0        1\n",
       "44.0        1\n",
       "Name: aampur, Length: 100, dtype: int64"
      ]
     },
     "execution_count": 11,
     "metadata": {},
     "output_type": "execute_result"
    }
   ],
   "source": [
    "# fill the empty cells with NA \n",
    "data2018['aampur'].fillna('NA', inplace = True)\n",
    "\n",
    "# check 'aplace' column\n",
    "data2018['aampur'].value_counts()"
   ]
  },
  {
   "cell_type": "code",
   "execution_count": 12,
   "metadata": {},
   "outputs": [
    {
     "data": {
      "text/plain": [
       "NA      33516\n",
       "1.0     26154\n",
       "1       15969\n",
       "2.0     12659\n",
       "4.0      8792\n",
       "        ...  \n",
       "27.0        5\n",
       "n           4\n",
       "0           3\n",
       "99.0        2\n",
       "96          1\n",
       "Name: atumbon, Length: 61, dtype: int64"
      ]
     },
     "execution_count": 12,
     "metadata": {},
     "output_type": "execute_result"
    }
   ],
   "source": [
    "# fill the empty cells with NA \n",
    "data2018['atumbon'].fillna('NA', inplace = True)\n",
    "\n",
    "# check 'aplace' column\n",
    "data2018['atumbon'].value_counts()"
   ]
  },
  {
   "cell_type": "code",
   "execution_count": 13,
   "metadata": {},
   "outputs": [
    {
     "data": {
      "text/plain": [
       "1.0    176966\n",
       "1       32709\n",
       "NA        262\n",
       "3.0        27\n",
       "3           9\n",
       "2.0         9\n",
       "4.0         2\n",
       "4           1\n",
       "N           1\n",
       "Name: injby, dtype: int64"
      ]
     },
     "execution_count": 13,
     "metadata": {},
     "output_type": "execute_result"
    }
   ],
   "source": [
    "# fill the empty cells with NA \n",
    "data2018['injby'].fillna('NA', inplace = True)\n",
    "\n",
    "# check 'aplace' column\n",
    "data2018['injby'].value_counts()"
   ]
  },
  {
   "cell_type": "code",
   "execution_count": 14,
   "metadata": {},
   "outputs": [
    {
     "data": {
      "text/plain": [
       "0     203808\n",
       "NA      2464\n",
       "1       1946\n",
       "N       1740\n",
       "n         27\n",
       "2          1\n",
       "Name: injoccu, dtype: int64"
      ]
     },
     "execution_count": 14,
     "metadata": {},
     "output_type": "execute_result"
    }
   ],
   "source": [
    "# fill the empty cells with NA \n",
    "data2018['injoccu'].fillna('NA', inplace = True)\n",
    "\n",
    "# check 'aplace' column\n",
    "data2018['injoccu'].value_counts()"
   ]
  },
  {
   "cell_type": "code",
   "execution_count": 15,
   "metadata": {},
   "outputs": [
    {
     "data": {
      "text/plain": [
       "2     160898\n",
       "3      40117\n",
       "1       5166\n",
       "NA      2414\n",
       "N       1271\n",
       "0        116\n",
       "n          4\n",
       "Name: injp, dtype: int64"
      ]
     },
     "execution_count": 15,
     "metadata": {},
     "output_type": "execute_result"
    }
   ],
   "source": [
    "# fill the empty cells with NA \n",
    "data2018['injp'].fillna('NA', inplace = True)\n",
    "\n",
    "# check 'aplace' column\n",
    "data2018['injp'].value_counts()"
   ]
  },
  {
   "cell_type": "code",
   "execution_count": 20,
   "metadata": {},
   "outputs": [
    {
     "data": {
      "text/plain": [
       "2      165004\n",
       "1       19467\n",
       "5        9199\n",
       "NA       5614\n",
       "4        4837\n",
       "3        1422\n",
       "6        1013\n",
       "99        816\n",
       "18        607\n",
       "9         473\n",
       "15        323\n",
       "8         278\n",
       "N         255\n",
       "0         232\n",
       "7         165\n",
       "16         93\n",
       "           64\n",
       "14         45\n",
       "10         27\n",
       "19         17\n",
       "12         12\n",
       "11         10\n",
       "13          8\n",
       "17          3\n",
       "n           1\n",
       "181         1\n",
       "Name: injt, dtype: int64"
      ]
     },
     "execution_count": 20,
     "metadata": {},
     "output_type": "execute_result"
    }
   ],
   "source": [
    "# fill the empty cells with NA \n",
    "data2018['injt'].fillna('NA', inplace = True)\n",
    "\n",
    "# check 'aplace' column\n",
    "data2018['injt'].value_counts()"
   ]
  },
  {
   "cell_type": "code",
   "execution_count": 21,
   "metadata": {},
   "outputs": [
    {
     "data": {
      "text/plain": [
       "21     91344\n",
       "2      32230\n",
       "5      24012\n",
       "4      16457\n",
       "12     10222\n",
       "NA      8605\n",
       "99      6977\n",
       "18      5960\n",
       "6       3204\n",
       "20      2103\n",
       "1       1305\n",
       "23      1244\n",
       "7       1039\n",
       "19       971\n",
       "N        848\n",
       "24       756\n",
       "3        667\n",
       "15       555\n",
       "9        324\n",
       "10       317\n",
       "8        307\n",
       "         173\n",
       "16       160\n",
       "241       57\n",
       "11        34\n",
       "22        33\n",
       "17        25\n",
       "242       19\n",
       "14        16\n",
       "13        13\n",
       "243        7\n",
       "29         1\n",
       "26         1\n",
       "Name: injfrom, dtype: int64"
      ]
     },
     "execution_count": 21,
     "metadata": {},
     "output_type": "execute_result"
    }
   ],
   "source": [
    "# fill the empty cells with NA \n",
    "data2018['injfrom'].fillna('NA', inplace = True)\n",
    "\n",
    "# check 'aplace' column\n",
    "data2018['injfrom'].value_counts()"
   ]
  },
  {
   "cell_type": "code",
   "execution_count": 22,
   "metadata": {},
   "outputs": [
    {
     "data": {
      "text/plain": [
       "0     155897\n",
       "1      38022\n",
       "N      15113\n",
       "NA       952\n",
       "2          2\n",
       "Name: risk1, dtype: int64"
      ]
     },
     "execution_count": 22,
     "metadata": {},
     "output_type": "execute_result"
    }
   ],
   "source": [
    "# fill the empty cells with NA \n",
    "data2018['risk1'].fillna('NA', inplace = True)\n",
    "\n",
    "# check 'aplace' column\n",
    "data2018['risk1'].value_counts()"
   ]
  },
  {
   "cell_type": "code",
   "execution_count": 23,
   "metadata": {},
   "outputs": [
    {
     "data": {
      "text/plain": [
       "0     183203\n",
       "N      22182\n",
       "NA      4054\n",
       "1        532\n",
       "2         15\n",
       "Name: risk2, dtype: int64"
      ]
     },
     "execution_count": 23,
     "metadata": {},
     "output_type": "execute_result"
    }
   ],
   "source": [
    "# fill the empty cells with NA \n",
    "data2018['risk2'].fillna('NA', inplace = True)\n",
    "\n",
    "# check 'aplace' column\n",
    "data2018['risk2'].value_counts()"
   ]
  },
  {
   "cell_type": "code",
   "execution_count": 24,
   "metadata": {},
   "outputs": [
    {
     "data": {
      "text/plain": [
       "NA    163634\n",
       "0      28952\n",
       "N      13402\n",
       "1       3986\n",
       "2         12\n",
       "Name: risk3, dtype: int64"
      ]
     },
     "execution_count": 24,
     "metadata": {},
     "output_type": "execute_result"
    }
   ],
   "source": [
    "# fill the empty cells with NA \n",
    "data2018['risk3'].fillna('NA', inplace = True)\n",
    "\n",
    "# check 'aplace' column\n",
    "data2018['risk3'].value_counts()"
   ]
  },
  {
   "cell_type": "code",
   "execution_count": 25,
   "metadata": {},
   "outputs": [
    {
     "data": {
      "text/plain": [
       "0     135384\n",
       "NA     31313\n",
       "1      29615\n",
       "N      13674\n",
       "Name: risk4, dtype: int64"
      ]
     },
     "execution_count": 25,
     "metadata": {},
     "output_type": "execute_result"
    }
   ],
   "source": [
    "# fill the empty cells with NA \n",
    "data2018['risk4'].fillna('NA', inplace = True)\n",
    "\n",
    "# check 'aplace' column\n",
    "data2018['risk4'].value_counts()"
   ]
  },
  {
   "cell_type": "code",
   "execution_count": 26,
   "metadata": {},
   "outputs": [
    {
     "data": {
      "text/plain": [
       "0     165347\n",
       "N      27815\n",
       "NA     15564\n",
       "1       1260\n",
       "Name: risk5, dtype: int64"
      ]
     },
     "execution_count": 26,
     "metadata": {},
     "output_type": "execute_result"
    }
   ],
   "source": [
    "# fill the empty cells with NA \n",
    "data2018['risk5'].fillna('NA', inplace = True)\n",
    "\n",
    "# check 'aplace' column\n",
    "data2018['risk5'].value_counts()"
   ]
  },
  {
   "cell_type": "code",
   "execution_count": 27,
   "metadata": {},
   "outputs": [
    {
     "data": {
      "text/plain": [
       "NA      167556\n",
       "50.0      1880\n",
       "40.0      1711\n",
       "84.0      1646\n",
       "57.0      1482\n",
       "         ...  \n",
       "27           2\n",
       "75           2\n",
       "81           2\n",
       "95.0         1\n",
       "1.0          1\n",
       "Name: hprov, Length: 155, dtype: int64"
      ]
     },
     "execution_count": 27,
     "metadata": {},
     "output_type": "execute_result"
    }
   ],
   "source": [
    "# fill the empty cells with NA \n",
    "data2018['hprov'].fillna('NA', inplace = True)\n",
    "\n",
    "# check 'aplace' column\n",
    "data2018['hprov'].value_counts()"
   ]
  },
  {
   "cell_type": "code",
   "execution_count": 28,
   "metadata": {},
   "outputs": [
    {
     "data": {
      "text/plain": [
       "0.0    209538\n",
       "1.0       439\n",
       "NA          9\n",
       "Name: mass_casualty, dtype: int64"
      ]
     },
     "execution_count": 28,
     "metadata": {},
     "output_type": "execute_result"
    }
   ],
   "source": [
    "# fill the empty cells with NA \n",
    "data2018['mass_casualty'].fillna('NA', inplace = True)\n",
    "\n",
    "# check 'aplace' column\n",
    "data2018['mass_casualty'].value_counts()"
   ]
  },
  {
   "cell_type": "markdown",
   "metadata": {},
   "source": [
    "#### Year 2019"
   ]
  },
  {
   "cell_type": "code",
   "execution_count": 6,
   "metadata": {},
   "outputs": [
    {
     "data": {
      "text/html": [
       "<div>\n",
       "<style scoped>\n",
       "    .dataframe tbody tr th:only-of-type {\n",
       "        vertical-align: middle;\n",
       "    }\n",
       "\n",
       "    .dataframe tbody tr th {\n",
       "        vertical-align: top;\n",
       "    }\n",
       "\n",
       "    .dataframe thead th {\n",
       "        text-align: right;\n",
       "    }\n",
       "</style>\n",
       "<table border=\"1\" class=\"dataframe\">\n",
       "  <thead>\n",
       "    <tr style=\"text-align: right;\">\n",
       "      <th></th>\n",
       "      <th>sex</th>\n",
       "      <th>age</th>\n",
       "      <th>occu</th>\n",
       "      <th>adate</th>\n",
       "      <th>atime</th>\n",
       "      <th>hdate</th>\n",
       "      <th>htime</th>\n",
       "      <th>aplace</th>\n",
       "      <th>aampur</th>\n",
       "      <th>atumbon</th>\n",
       "      <th>...</th>\n",
       "      <th>injt</th>\n",
       "      <th>injfrom</th>\n",
       "      <th>risk1</th>\n",
       "      <th>risk2</th>\n",
       "      <th>risk3</th>\n",
       "      <th>risk4</th>\n",
       "      <th>risk5</th>\n",
       "      <th>hprov</th>\n",
       "      <th>rdate</th>\n",
       "      <th>mass_casualty</th>\n",
       "    </tr>\n",
       "  </thead>\n",
       "  <tbody>\n",
       "    <tr>\n",
       "      <td>0</td>\n",
       "      <td>1</td>\n",
       "      <td>16.0</td>\n",
       "      <td>8</td>\n",
       "      <td>1/1/2019</td>\n",
       "      <td>1/1/2019</td>\n",
       "      <td>1/1/2019</td>\n",
       "      <td>1/1/2019</td>\n",
       "      <td>70</td>\n",
       "      <td>7</td>\n",
       "      <td>15</td>\n",
       "      <td>...</td>\n",
       "      <td>2</td>\n",
       "      <td>12</td>\n",
       "      <td>0</td>\n",
       "      <td>0</td>\n",
       "      <td>NaN</td>\n",
       "      <td>0</td>\n",
       "      <td>0</td>\n",
       "      <td>NaN</td>\n",
       "      <td>0/0/0 00:00:00</td>\n",
       "      <td>0.0</td>\n",
       "    </tr>\n",
       "    <tr>\n",
       "      <td>1</td>\n",
       "      <td>1</td>\n",
       "      <td>17.0</td>\n",
       "      <td>8</td>\n",
       "      <td>1/1/2019</td>\n",
       "      <td>1/1/2019</td>\n",
       "      <td>1/1/2019</td>\n",
       "      <td>1/1/2019</td>\n",
       "      <td>70</td>\n",
       "      <td>7</td>\n",
       "      <td>15</td>\n",
       "      <td>...</td>\n",
       "      <td>2</td>\n",
       "      <td>12</td>\n",
       "      <td>0</td>\n",
       "      <td>0</td>\n",
       "      <td>NaN</td>\n",
       "      <td>0</td>\n",
       "      <td>0</td>\n",
       "      <td>NaN</td>\n",
       "      <td>0/0/0 00:00:00</td>\n",
       "      <td>0.0</td>\n",
       "    </tr>\n",
       "    <tr>\n",
       "      <td>2</td>\n",
       "      <td>1</td>\n",
       "      <td>19.0</td>\n",
       "      <td>0</td>\n",
       "      <td>1/1/2019</td>\n",
       "      <td>1/1/2019</td>\n",
       "      <td>1/1/2019</td>\n",
       "      <td>1/1/2019</td>\n",
       "      <td>70</td>\n",
       "      <td>7</td>\n",
       "      <td>7</td>\n",
       "      <td>...</td>\n",
       "      <td>2</td>\n",
       "      <td>21</td>\n",
       "      <td>0</td>\n",
       "      <td>0</td>\n",
       "      <td>NaN</td>\n",
       "      <td>0</td>\n",
       "      <td>0</td>\n",
       "      <td>NaN</td>\n",
       "      <td>0/0/0 00:00:00</td>\n",
       "      <td>0.0</td>\n",
       "    </tr>\n",
       "    <tr>\n",
       "      <td>3</td>\n",
       "      <td>1</td>\n",
       "      <td>19.0</td>\n",
       "      <td>0</td>\n",
       "      <td>1/1/2019</td>\n",
       "      <td>1/1/2019</td>\n",
       "      <td>1/1/2019</td>\n",
       "      <td>1/1/2019</td>\n",
       "      <td>67</td>\n",
       "      <td>1</td>\n",
       "      <td>13</td>\n",
       "      <td>...</td>\n",
       "      <td>2</td>\n",
       "      <td>21</td>\n",
       "      <td>1</td>\n",
       "      <td>0</td>\n",
       "      <td>NaN</td>\n",
       "      <td>0</td>\n",
       "      <td>0</td>\n",
       "      <td>NaN</td>\n",
       "      <td>5/1/2019</td>\n",
       "      <td>0.0</td>\n",
       "    </tr>\n",
       "    <tr>\n",
       "      <td>4</td>\n",
       "      <td>2</td>\n",
       "      <td>15.0</td>\n",
       "      <td>6</td>\n",
       "      <td>1/1/2019</td>\n",
       "      <td>1/1/2019</td>\n",
       "      <td>1/1/2019</td>\n",
       "      <td>1/1/2019</td>\n",
       "      <td>77</td>\n",
       "      <td>1</td>\n",
       "      <td>5</td>\n",
       "      <td>...</td>\n",
       "      <td>2</td>\n",
       "      <td>21</td>\n",
       "      <td>0</td>\n",
       "      <td>0</td>\n",
       "      <td>NaN</td>\n",
       "      <td>0</td>\n",
       "      <td>0</td>\n",
       "      <td>NaN</td>\n",
       "      <td>NaN</td>\n",
       "      <td>0.0</td>\n",
       "    </tr>\n",
       "  </tbody>\n",
       "</table>\n",
       "<p>5 rows × 24 columns</p>\n",
       "</div>"
      ],
      "text/plain": [
       "   sex   age occu     adate     atime     hdate     htime aplace aampur  \\\n",
       "0    1  16.0    8  1/1/2019  1/1/2019  1/1/2019  1/1/2019     70      7   \n",
       "1    1  17.0    8  1/1/2019  1/1/2019  1/1/2019  1/1/2019     70      7   \n",
       "2    1  19.0    0  1/1/2019  1/1/2019  1/1/2019  1/1/2019     70      7   \n",
       "3    1  19.0    0  1/1/2019  1/1/2019  1/1/2019  1/1/2019     67      1   \n",
       "4    2  15.0    6  1/1/2019  1/1/2019  1/1/2019  1/1/2019     77      1   \n",
       "\n",
       "  atumbon  ... injt injfrom risk1 risk2 risk3 risk4 risk5 hprov  \\\n",
       "0      15  ...    2      12     0     0   NaN     0     0   NaN   \n",
       "1      15  ...    2      12     0     0   NaN     0     0   NaN   \n",
       "2       7  ...    2      21     0     0   NaN     0     0   NaN   \n",
       "3      13  ...    2      21     1     0   NaN     0     0   NaN   \n",
       "4       5  ...    2      21     0     0   NaN     0     0   NaN   \n",
       "\n",
       "            rdate mass_casualty  \n",
       "0  0/0/0 00:00:00           0.0  \n",
       "1  0/0/0 00:00:00           0.0  \n",
       "2  0/0/0 00:00:00           0.0  \n",
       "3        5/1/2019           0.0  \n",
       "4             NaN           0.0  \n",
       "\n",
       "[5 rows x 24 columns]"
      ]
     },
     "execution_count": 6,
     "metadata": {},
     "output_type": "execute_result"
    }
   ],
   "source": [
    "data2019 = pd.read_csv('is-2019.csv')  \n",
    "data2019.head()"
   ]
  },
  {
   "cell_type": "markdown",
   "metadata": {},
   "source": [
    "#### Handle Missing Values (2019)"
   ]
  },
  {
   "cell_type": "code",
   "execution_count": 30,
   "metadata": {},
   "outputs": [
    {
     "data": {
      "text/plain": [
       "40     17594\n",
       "50     17174\n",
       "57     16833\n",
       "90     11432\n",
       "32      9023\n",
       "       ...  \n",
       "C04        5\n",
       "C2         5\n",
       "5          5\n",
       "C03        1\n",
       "9          1\n",
       "Name: aplace, Length: 90, dtype: int64"
      ]
     },
     "execution_count": 30,
     "metadata": {},
     "output_type": "execute_result"
    }
   ],
   "source": [
    "# fill the empty cells with NA \n",
    "data2019['aplace'].fillna('NA', inplace = True)\n",
    "\n",
    "# check 'aplace' column\n",
    "data2019['aplace'].value_counts()"
   ]
  },
  {
   "cell_type": "code",
   "execution_count": 31,
   "metadata": {},
   "outputs": [
    {
     "data": {
      "text/plain": [
       "1.0     62467\n",
       "1       40777\n",
       "7.0     10461\n",
       "5.0      8988\n",
       "4.0      8472\n",
       "        ...  \n",
       "42          2\n",
       "46.0        1\n",
       "43          1\n",
       "46          1\n",
       "41.0        1\n",
       "Name: aampur, Length: 102, dtype: int64"
      ]
     },
     "execution_count": 31,
     "metadata": {},
     "output_type": "execute_result"
    }
   ],
   "source": [
    "# fill the empty cells with NA \n",
    "data2019['aampur'].fillna('NA', inplace = True)\n",
    "\n",
    "# check 'aplace' column\n",
    "data2019['aampur'].value_counts()"
   ]
  },
  {
   "cell_type": "code",
   "execution_count": 32,
   "metadata": {},
   "outputs": [
    {
     "data": {
      "text/plain": [
       "1     52619\n",
       "NA    32159\n",
       "2     25314\n",
       "4     19148\n",
       "3     17788\n",
       "6     14990\n",
       "5     14504\n",
       "7     11533\n",
       "10     8285\n",
       "8      7888\n",
       "11     6616\n",
       "9      6376\n",
       "13     5613\n",
       "12     5013\n",
       "14     4201\n",
       "17     3135\n",
       "16     3127\n",
       "15     2766\n",
       "18     2588\n",
       "20     1039\n",
       "19      971\n",
       "22      746\n",
       "21      714\n",
       "23      342\n",
       "24      237\n",
       "        205\n",
       "25      188\n",
       "26       31\n",
       "99        2\n",
       "n         1\n",
       "27        1\n",
       "0         1\n",
       ".         1\n",
       "Name: atumbon, dtype: int64"
      ]
     },
     "execution_count": 32,
     "metadata": {},
     "output_type": "execute_result"
    }
   ],
   "source": [
    "# fill the empty cells with NA \n",
    "data2019['atumbon'].fillna('NA', inplace = True)\n",
    "\n",
    "# check 'aplace' column\n",
    "data2019['atumbon'].value_counts()"
   ]
  },
  {
   "cell_type": "code",
   "execution_count": 33,
   "metadata": {},
   "outputs": [
    {
     "data": {
      "text/plain": [
       "1      182537\n",
       "1.0     65499\n",
       "NA         59\n",
       "3          15\n",
       "N          14\n",
       "3.0         8\n",
       "2           6\n",
       "4           2\n",
       "n           1\n",
       "2.0         1\n",
       "Name: injby, dtype: int64"
      ]
     },
     "execution_count": 33,
     "metadata": {},
     "output_type": "execute_result"
    }
   ],
   "source": [
    "# fill the empty cells with NA \n",
    "data2019['injby'].fillna('NA', inplace = True)\n",
    "\n",
    "# check 'aplace' column\n",
    "data2019['injby'].value_counts()"
   ]
  },
  {
   "cell_type": "code",
   "execution_count": 34,
   "metadata": {},
   "outputs": [
    {
     "data": {
      "text/plain": [
       "0     242297\n",
       "NA      3070\n",
       "1       2116\n",
       "N        613\n",
       "n         45\n",
       "2          1\n",
       "Name: injoccu, dtype: int64"
      ]
     },
     "execution_count": 34,
     "metadata": {},
     "output_type": "execute_result"
    }
   ],
   "source": [
    "# fill the empty cells with NA \n",
    "data2019['injoccu'].fillna('NA', inplace = True)\n",
    "\n",
    "# check 'aplace' column\n",
    "data2019['injoccu'].value_counts()"
   ]
  },
  {
   "cell_type": "code",
   "execution_count": 35,
   "metadata": {},
   "outputs": [
    {
     "data": {
      "text/plain": [
       "2     190941\n",
       "3      46296\n",
       "1       5675\n",
       "NA      3298\n",
       "N       1898\n",
       "n         27\n",
       "0          7\n",
       "Name: injp, dtype: int64"
      ]
     },
     "execution_count": 35,
     "metadata": {},
     "output_type": "execute_result"
    }
   ],
   "source": [
    "# fill the empty cells with NA \n",
    "data2019['injp'].fillna('NA', inplace = True)\n",
    "\n",
    "# check 'aplace' column\n",
    "data2019['injp'].value_counts()"
   ]
  },
  {
   "cell_type": "code",
   "execution_count": 36,
   "metadata": {},
   "outputs": [
    {
     "data": {
      "text/plain": [
       "2      201890\n",
       "1       13654\n",
       "5       11551\n",
       "NA       6844\n",
       "4        5772\n",
       "3        1883\n",
       "99       1583\n",
       "6        1352\n",
       "0         827\n",
       "18        684\n",
       "9         510\n",
       "15        416\n",
       "N         284\n",
       "8         276\n",
       "7         162\n",
       "16        140\n",
       "          127\n",
       "10         47\n",
       "n          47\n",
       "14         27\n",
       "12         15\n",
       "19         13\n",
       "13         13\n",
       "17          8\n",
       "11          7\n",
       "181         6\n",
       "182         3\n",
       "98          1\n",
       "Name: injt, dtype: int64"
      ]
     },
     "execution_count": 36,
     "metadata": {},
     "output_type": "execute_result"
    }
   ],
   "source": [
    "# fill the empty cells with NA \n",
    "data2019['injt'].fillna('NA', inplace = True)\n",
    "\n",
    "# check 'aplace' column\n",
    "data2019['injt'].value_counts()"
   ]
  },
  {
   "cell_type": "code",
   "execution_count": 37,
   "metadata": {},
   "outputs": [
    {
     "data": {
      "text/plain": [
       "21     111148\n",
       "2       36320\n",
       "5       27387\n",
       "4       17997\n",
       "NA      13485\n",
       "12      11864\n",
       "99       8426\n",
       "18       6745\n",
       "6        3346\n",
       "20       2304\n",
       "1        1539\n",
       "7        1189\n",
       "19       1149\n",
       "N         923\n",
       "3         900\n",
       "24        890\n",
       "23        615\n",
       "15        572\n",
       "10        356\n",
       "9         329\n",
       "8         286\n",
       "16        127\n",
       "241        97\n",
       "22         37\n",
       "11         35\n",
       "242        20\n",
       "243        16\n",
       "17         14\n",
       "13         13\n",
       "14         12\n",
       "27          1\n",
       "Name: injfrom, dtype: int64"
      ]
     },
     "execution_count": 37,
     "metadata": {},
     "output_type": "execute_result"
    }
   ],
   "source": [
    "# fill the empty cells with NA \n",
    "data2019['injfrom'].fillna('NA', inplace = True)\n",
    "\n",
    "# check 'aplace' column\n",
    "data2019['injfrom'].value_counts()"
   ]
  },
  {
   "cell_type": "code",
   "execution_count": 38,
   "metadata": {},
   "outputs": [
    {
     "data": {
      "text/plain": [
       "0     180512\n",
       "1      46897\n",
       "N      18938\n",
       "NA      1772\n",
       "2         16\n",
       "9          7\n",
       "Name: risk1, dtype: int64"
      ]
     },
     "execution_count": 38,
     "metadata": {},
     "output_type": "execute_result"
    }
   ],
   "source": [
    "# fill the empty cells with NA \n",
    "data2019['risk1'].fillna('NA', inplace = True)\n",
    "\n",
    "# check 'aplace' column\n",
    "data2019['risk1'].value_counts()"
   ]
  },
  {
   "cell_type": "code",
   "execution_count": 39,
   "metadata": {},
   "outputs": [
    {
     "data": {
      "text/plain": [
       "0     212594\n",
       "N      30356\n",
       "NA      4468\n",
       "1        673\n",
       "2         51\n",
       "Name: risk2, dtype: int64"
      ]
     },
     "execution_count": 39,
     "metadata": {},
     "output_type": "execute_result"
    }
   ],
   "source": [
    "# fill the empty cells with NA \n",
    "data2019['risk2'].fillna('NA', inplace = True)\n",
    "\n",
    "# check 'aplace' column\n",
    "data2019['risk2'].value_counts()"
   ]
  },
  {
   "cell_type": "code",
   "execution_count": 40,
   "metadata": {},
   "outputs": [
    {
     "data": {
      "text/plain": [
       "NA    190612\n",
       "0      38422\n",
       "N      14794\n",
       "1       4267\n",
       "2         47\n",
       "Name: risk3, dtype: int64"
      ]
     },
     "execution_count": 40,
     "metadata": {},
     "output_type": "execute_result"
    }
   ],
   "source": [
    "# fill the empty cells with NA \n",
    "data2019['risk3'].fillna('NA', inplace = True)\n",
    "\n",
    "# check 'aplace' column\n",
    "data2019['risk3'].value_counts()"
   ]
  },
  {
   "cell_type": "code",
   "execution_count": 41,
   "metadata": {},
   "outputs": [
    {
     "data": {
      "text/plain": [
       "0     160450\n",
       "NA     36391\n",
       "1      35168\n",
       "N      16133\n",
       "Name: risk4, dtype: int64"
      ]
     },
     "execution_count": 41,
     "metadata": {},
     "output_type": "execute_result"
    }
   ],
   "source": [
    "# fill the empty cells with NA \n",
    "data2019['risk4'].fillna('NA', inplace = True)\n",
    "\n",
    "# check 'aplace' column\n",
    "data2019['risk4'].value_counts()"
   ]
  },
  {
   "cell_type": "code",
   "execution_count": 42,
   "metadata": {},
   "outputs": [
    {
     "data": {
      "text/plain": [
       "0     188949\n",
       "N      37321\n",
       "NA     20464\n",
       "1       1408\n",
       "Name: risk5, dtype: int64"
      ]
     },
     "execution_count": 42,
     "metadata": {},
     "output_type": "execute_result"
    }
   ],
   "source": [
    "# fill the empty cells with NA \n",
    "data2019['risk5'].fillna('NA', inplace = True)\n",
    "\n",
    "# check 'aplace' column\n",
    "data2019['risk5'].value_counts()"
   ]
  },
  {
   "cell_type": "code",
   "execution_count": 43,
   "metadata": {},
   "outputs": [
    {
     "data": {
      "text/plain": [
       "NA    198788\n",
       "        3669\n",
       "40      2875\n",
       "84      2822\n",
       "50      2657\n",
       "       ...  \n",
       "C1         6\n",
       "1          5\n",
       "75         5\n",
       "95         2\n",
       "C0         1\n",
       "Name: hprov, Length: 84, dtype: int64"
      ]
     },
     "execution_count": 43,
     "metadata": {},
     "output_type": "execute_result"
    }
   ],
   "source": [
    "# fill the empty cells with NA \n",
    "data2019['hprov'].fillna('NA', inplace = True)\n",
    "\n",
    "# check 'aplace' column\n",
    "data2019['hprov'].value_counts()"
   ]
  },
  {
   "cell_type": "code",
   "execution_count": 44,
   "metadata": {},
   "outputs": [
    {
     "data": {
      "text/plain": [
       "0.0    247570\n",
       "1.0       571\n",
       "NA          1\n",
       "Name: mass_casualty, dtype: int64"
      ]
     },
     "execution_count": 44,
     "metadata": {},
     "output_type": "execute_result"
    }
   ],
   "source": [
    "# fill the empty cells with NA \n",
    "data2019['mass_casualty'].fillna('NA', inplace = True)\n",
    "\n",
    "# check 'aplace' column\n",
    "data2019['mass_casualty'].value_counts()"
   ]
  },
  {
   "cell_type": "markdown",
   "metadata": {},
   "source": [
    "#### Year 2020"
   ]
  },
  {
   "cell_type": "code",
   "execution_count": 7,
   "metadata": {},
   "outputs": [
    {
     "data": {
      "text/html": [
       "<div>\n",
       "<style scoped>\n",
       "    .dataframe tbody tr th:only-of-type {\n",
       "        vertical-align: middle;\n",
       "    }\n",
       "\n",
       "    .dataframe tbody tr th {\n",
       "        vertical-align: top;\n",
       "    }\n",
       "\n",
       "    .dataframe thead th {\n",
       "        text-align: right;\n",
       "    }\n",
       "</style>\n",
       "<table border=\"1\" class=\"dataframe\">\n",
       "  <thead>\n",
       "    <tr style=\"text-align: right;\">\n",
       "      <th></th>\n",
       "      <th>sex</th>\n",
       "      <th>age</th>\n",
       "      <th>occu</th>\n",
       "      <th>adate</th>\n",
       "      <th>atime</th>\n",
       "      <th>hdate</th>\n",
       "      <th>htime</th>\n",
       "      <th>aplace</th>\n",
       "      <th>aampur</th>\n",
       "      <th>atumbon</th>\n",
       "      <th>...</th>\n",
       "      <th>injt</th>\n",
       "      <th>injfrom</th>\n",
       "      <th>risk1</th>\n",
       "      <th>risk2</th>\n",
       "      <th>risk3</th>\n",
       "      <th>risk4</th>\n",
       "      <th>risk5</th>\n",
       "      <th>hprov</th>\n",
       "      <th>rdate</th>\n",
       "      <th>mass_casualty</th>\n",
       "    </tr>\n",
       "  </thead>\n",
       "  <tbody>\n",
       "    <tr>\n",
       "      <td>0</td>\n",
       "      <td>1</td>\n",
       "      <td>17.0</td>\n",
       "      <td>17</td>\n",
       "      <td>1/1/2020</td>\n",
       "      <td>1/1/2020</td>\n",
       "      <td>1/1/2020</td>\n",
       "      <td>1/1/2020</td>\n",
       "      <td>39</td>\n",
       "      <td>NaN</td>\n",
       "      <td>NaN</td>\n",
       "      <td>...</td>\n",
       "      <td>0</td>\n",
       "      <td>NaN</td>\n",
       "      <td>1</td>\n",
       "      <td>0</td>\n",
       "      <td>N</td>\n",
       "      <td>0</td>\n",
       "      <td>N</td>\n",
       "      <td>NaN</td>\n",
       "      <td>NaN</td>\n",
       "      <td>0</td>\n",
       "    </tr>\n",
       "    <tr>\n",
       "      <td>1</td>\n",
       "      <td>1</td>\n",
       "      <td>72.0</td>\n",
       "      <td>5</td>\n",
       "      <td>1/1/2020</td>\n",
       "      <td>1/1/2020</td>\n",
       "      <td>1/1/2020</td>\n",
       "      <td>1/1/2020</td>\n",
       "      <td>60</td>\n",
       "      <td>1</td>\n",
       "      <td>2</td>\n",
       "      <td>...</td>\n",
       "      <td>2</td>\n",
       "      <td>4</td>\n",
       "      <td>N</td>\n",
       "      <td>0</td>\n",
       "      <td>NaN</td>\n",
       "      <td>0</td>\n",
       "      <td>0</td>\n",
       "      <td>NaN</td>\n",
       "      <td>31/12/2019</td>\n",
       "      <td>0</td>\n",
       "    </tr>\n",
       "    <tr>\n",
       "      <td>2</td>\n",
       "      <td>2</td>\n",
       "      <td>26.0</td>\n",
       "      <td>5</td>\n",
       "      <td>1/1/2020</td>\n",
       "      <td>1/1/2020</td>\n",
       "      <td>2/1/2020</td>\n",
       "      <td>2/1/2020</td>\n",
       "      <td>16</td>\n",
       "      <td>1</td>\n",
       "      <td>3</td>\n",
       "      <td>...</td>\n",
       "      <td>NaN</td>\n",
       "      <td>NaN</td>\n",
       "      <td>N</td>\n",
       "      <td>N</td>\n",
       "      <td>N</td>\n",
       "      <td>N</td>\n",
       "      <td>N</td>\n",
       "      <td>NaN</td>\n",
       "      <td>NaN</td>\n",
       "      <td>0</td>\n",
       "    </tr>\n",
       "    <tr>\n",
       "      <td>3</td>\n",
       "      <td>1</td>\n",
       "      <td>24.0</td>\n",
       "      <td>0</td>\n",
       "      <td>1/1/2020</td>\n",
       "      <td>1/1/2020</td>\n",
       "      <td>1/1/2020</td>\n",
       "      <td>1/1/2020</td>\n",
       "      <td>39</td>\n",
       "      <td>NaN</td>\n",
       "      <td>NaN</td>\n",
       "      <td>...</td>\n",
       "      <td>99</td>\n",
       "      <td>99</td>\n",
       "      <td>1</td>\n",
       "      <td>N</td>\n",
       "      <td>N</td>\n",
       "      <td>NaN</td>\n",
       "      <td>0</td>\n",
       "      <td>NaN</td>\n",
       "      <td>NaN</td>\n",
       "      <td>0</td>\n",
       "    </tr>\n",
       "    <tr>\n",
       "      <td>4</td>\n",
       "      <td>1</td>\n",
       "      <td>21.0</td>\n",
       "      <td>5</td>\n",
       "      <td>1/1/2020</td>\n",
       "      <td>0/0/0 00:00:00</td>\n",
       "      <td>1/1/2020</td>\n",
       "      <td>1/1/2020</td>\n",
       "      <td>30</td>\n",
       "      <td>28</td>\n",
       "      <td>2</td>\n",
       "      <td>...</td>\n",
       "      <td>2</td>\n",
       "      <td>21</td>\n",
       "      <td>N</td>\n",
       "      <td>0</td>\n",
       "      <td>NaN</td>\n",
       "      <td>0</td>\n",
       "      <td>0</td>\n",
       "      <td>30</td>\n",
       "      <td>0/0/0 00:00:00</td>\n",
       "      <td>0</td>\n",
       "    </tr>\n",
       "  </tbody>\n",
       "</table>\n",
       "<p>5 rows × 24 columns</p>\n",
       "</div>"
      ],
      "text/plain": [
       "   sex   age occu     adate           atime     hdate     htime aplace aampur  \\\n",
       "0    1  17.0   17  1/1/2020        1/1/2020  1/1/2020  1/1/2020     39    NaN   \n",
       "1    1  72.0    5  1/1/2020        1/1/2020  1/1/2020  1/1/2020     60      1   \n",
       "2    2  26.0    5  1/1/2020        1/1/2020  2/1/2020  2/1/2020     16      1   \n",
       "3    1  24.0    0  1/1/2020        1/1/2020  1/1/2020  1/1/2020     39    NaN   \n",
       "4    1  21.0    5  1/1/2020  0/0/0 00:00:00  1/1/2020  1/1/2020     30     28   \n",
       "\n",
       "  atumbon  ... injt injfrom risk1 risk2 risk3 risk4 risk5 hprov  \\\n",
       "0     NaN  ...    0     NaN     1     0     N     0     N   NaN   \n",
       "1       2  ...    2       4     N     0   NaN     0     0   NaN   \n",
       "2       3  ...  NaN     NaN     N     N     N     N     N   NaN   \n",
       "3     NaN  ...   99      99     1     N     N   NaN     0   NaN   \n",
       "4       2  ...    2      21     N     0   NaN     0     0    30   \n",
       "\n",
       "            rdate mass_casualty  \n",
       "0             NaN             0  \n",
       "1      31/12/2019             0  \n",
       "2             NaN             0  \n",
       "3             NaN             0  \n",
       "4  0/0/0 00:00:00             0  \n",
       "\n",
       "[5 rows x 24 columns]"
      ]
     },
     "execution_count": 7,
     "metadata": {},
     "output_type": "execute_result"
    }
   ],
   "source": [
    "data2020 = pd.read_csv('is-2020.csv')  \n",
    "data2020.head()"
   ]
  },
  {
   "cell_type": "code",
   "execution_count": 45,
   "metadata": {},
   "outputs": [
    {
     "data": {
      "text/plain": [
       "1.0     69743\n",
       "1       40959\n",
       "5.0     12119\n",
       "7.0     11589\n",
       "4.0     10522\n",
       "        ...  \n",
       "99.0        2\n",
       "43.0        2\n",
       "46          1\n",
       "41.0        1\n",
       "46.0        1\n",
       "Name: aampur, Length: 102, dtype: int64"
      ]
     },
     "execution_count": 45,
     "metadata": {},
     "output_type": "execute_result"
    }
   ],
   "source": [
    "# fill the empty cells with NA \n",
    "data2020['aampur'].fillna('NA', inplace = True)\n",
    "\n",
    "# check 'aplace' column\n",
    "data2020['aampur'].value_counts()"
   ]
  },
  {
   "cell_type": "code",
   "execution_count": 46,
   "metadata": {},
   "outputs": [
    {
     "data": {
      "text/plain": [
       "1     48699\n",
       "NA    40137\n",
       "2     26998\n",
       "4     20439\n",
       "3     20182\n",
       "6     16818\n",
       "5     15749\n",
       "7     12367\n",
       "8      9357\n",
       "10     9028\n",
       "9      7687\n",
       "11     7520\n",
       "13     6496\n",
       "12     6450\n",
       "14     5325\n",
       "16     3577\n",
       "17     3348\n",
       "15     3139\n",
       "18     2488\n",
       "20     1356\n",
       "19     1005\n",
       "21      935\n",
       "22      919\n",
       "23      322\n",
       "24      242\n",
       "25      236\n",
       "        225\n",
       "27       82\n",
       "26       63\n",
       "28        9\n",
       "0         2\n",
       "Name: atumbon, dtype: int64"
      ]
     },
     "execution_count": 46,
     "metadata": {},
     "output_type": "execute_result"
    }
   ],
   "source": [
    "# fill the empty cells with NA \n",
    "data2020['atumbon'].fillna('NA', inplace = True)\n",
    "\n",
    "# check 'aplace' column\n",
    "data2020['atumbon'].value_counts()"
   ]
  },
  {
   "cell_type": "code",
   "execution_count": 47,
   "metadata": {},
   "outputs": [
    {
     "data": {
      "text/plain": [
       "1      236048\n",
       "1.0     32763\n",
       "N        2304\n",
       "NA         35\n",
       "3          32\n",
       "2          10\n",
       "4           3\n",
       "5           2\n",
       "0           1\n",
       "4.0         1\n",
       "2.0         1\n",
       "Name: injby, dtype: int64"
      ]
     },
     "execution_count": 47,
     "metadata": {},
     "output_type": "execute_result"
    }
   ],
   "source": [
    "# fill the empty cells with NA \n",
    "data2020['injby'].fillna('NA', inplace = True)\n",
    "\n",
    "# check 'aplace' column\n",
    "data2020['injby'].value_counts()"
   ]
  },
  {
   "cell_type": "code",
   "execution_count": 48,
   "metadata": {},
   "outputs": [
    {
     "data": {
      "text/plain": [
       "0     264715\n",
       "NA      3054\n",
       "1       2541\n",
       "N        856\n",
       "n         30\n",
       "2          3\n",
       "9          1\n",
       "Name: injoccu, dtype: int64"
      ]
     },
     "execution_count": 48,
     "metadata": {},
     "output_type": "execute_result"
    }
   ],
   "source": [
    "# fill the empty cells with NA \n",
    "data2020['injoccu'].fillna('NA', inplace = True)\n",
    "\n",
    "# check 'aplace' column\n",
    "data2020['injoccu'].value_counts()"
   ]
  },
  {
   "cell_type": "code",
   "execution_count": 49,
   "metadata": {},
   "outputs": [
    {
     "data": {
      "text/plain": [
       "2     211127\n",
       "3      46684\n",
       "1       5976\n",
       "NA      5520\n",
       "N       1866\n",
       "n         17\n",
       "0          6\n",
       "4          2\n",
       "9          1\n",
       "6          1\n",
       "Name: injp, dtype: int64"
      ]
     },
     "execution_count": 49,
     "metadata": {},
     "output_type": "execute_result"
    }
   ],
   "source": [
    "# fill the empty cells with NA \n",
    "data2020['injp'].fillna('NA', inplace = True)\n",
    "\n",
    "# check 'aplace' column\n",
    "data2020['injp'].value_counts()"
   ]
  },
  {
   "cell_type": "code",
   "execution_count": 50,
   "metadata": {},
   "outputs": [
    {
     "data": {
      "text/plain": [
       "2      221381\n",
       "1       13290\n",
       "5       12720\n",
       "NA       8285\n",
       "4        6253\n",
       "3        2540\n",
       "99       2278\n",
       "6        1349\n",
       "18        591\n",
       "0         590\n",
       "15        488\n",
       "9         336\n",
       "N         278\n",
       "8         272\n",
       "7         176\n",
       "16        102\n",
       "           89\n",
       "10         52\n",
       "19         31\n",
       "14         21\n",
       "13         18\n",
       "181        16\n",
       "12         14\n",
       "n          10\n",
       "11          7\n",
       "98          6\n",
       "17          5\n",
       "182         1\n",
       "183         1\n",
       "Name: injt, dtype: int64"
      ]
     },
     "execution_count": 50,
     "metadata": {},
     "output_type": "execute_result"
    }
   ],
   "source": [
    "# fill the empty cells with NA \n",
    "data2020['injt'].fillna('NA', inplace = True)\n",
    "\n",
    "# check 'aplace' column\n",
    "data2020['injt'].value_counts()"
   ]
  },
  {
   "cell_type": "code",
   "execution_count": 51,
   "metadata": {},
   "outputs": [
    {
     "data": {
      "text/plain": [
       "21     124170\n",
       "2       38447\n",
       "5       29994\n",
       "4       19568\n",
       "12      14140\n",
       "NA      12882\n",
       "99       9180\n",
       "18       7440\n",
       "6        3369\n",
       "20       2641\n",
       "1        1858\n",
       "7        1260\n",
       "19       1158\n",
       "3        1113\n",
       "N         804\n",
       "15        789\n",
       "24        701\n",
       "23        582\n",
       "9         256\n",
       "8         246\n",
       "10        221\n",
       "16        122\n",
       "11         77\n",
       "241        59\n",
       "22         58\n",
       "243        20\n",
       "17         18\n",
       "13         16\n",
       "242         6\n",
       "14          5\n",
       "Name: injfrom, dtype: int64"
      ]
     },
     "execution_count": 51,
     "metadata": {},
     "output_type": "execute_result"
    }
   ],
   "source": [
    "# fill the empty cells with NA \n",
    "data2020['injfrom'].fillna('NA', inplace = True)\n",
    "\n",
    "# check 'aplace' column\n",
    "data2020['injfrom'].value_counts()"
   ]
  },
  {
   "cell_type": "code",
   "execution_count": 52,
   "metadata": {},
   "outputs": [
    {
     "data": {
      "text/plain": [
       "0     188864\n",
       "1      50262\n",
       "N      30472\n",
       "NA      1552\n",
       "O         25\n",
       "2         19\n",
       "9          3\n",
       "n          3\n",
       "Name: risk1, dtype: int64"
      ]
     },
     "execution_count": 52,
     "metadata": {},
     "output_type": "execute_result"
    }
   ],
   "source": [
    "# fill the empty cells with NA \n",
    "data2020['risk1'].fillna('NA', inplace = True)\n",
    "\n",
    "# check 'aplace' column\n",
    "data2020['risk1'].value_counts()"
   ]
  },
  {
   "cell_type": "code",
   "execution_count": 53,
   "metadata": {},
   "outputs": [
    {
     "data": {
      "text/plain": [
       "0     217288\n",
       "N      48624\n",
       "NA      4311\n",
       "1        890\n",
       "2         76\n",
       "O          8\n",
       "9          3\n",
       "Name: risk2, dtype: int64"
      ]
     },
     "execution_count": 53,
     "metadata": {},
     "output_type": "execute_result"
    }
   ],
   "source": [
    "# fill the empty cells with NA \n",
    "data2020['risk2'].fillna('NA', inplace = True)\n",
    "\n",
    "# check 'aplace' column\n",
    "data2020['risk2'].value_counts()"
   ]
  },
  {
   "cell_type": "code",
   "execution_count": 54,
   "metadata": {},
   "outputs": [
    {
     "data": {
      "text/plain": [
       "NA    206024\n",
       "0      40976\n",
       "N      19191\n",
       "1       4934\n",
       "2         74\n",
       "9          1\n",
       "Name: risk3, dtype: int64"
      ]
     },
     "execution_count": 54,
     "metadata": {},
     "output_type": "execute_result"
    }
   ],
   "source": [
    "# fill the empty cells with NA \n",
    "data2020['risk3'].fillna('NA', inplace = True)\n",
    "\n",
    "# check 'aplace' column\n",
    "data2020['risk3'].value_counts()"
   ]
  },
  {
   "cell_type": "code",
   "execution_count": 55,
   "metadata": {},
   "outputs": [
    {
     "data": {
      "text/plain": [
       "0     172930\n",
       "NA     37420\n",
       "1      35368\n",
       "N      25470\n",
       "2         12\n",
       "Name: risk4, dtype: int64"
      ]
     },
     "execution_count": 55,
     "metadata": {},
     "output_type": "execute_result"
    }
   ],
   "source": [
    "# fill the empty cells with NA \n",
    "data2020['risk4'].fillna('NA', inplace = True)\n",
    "\n",
    "# check 'aplace' column\n",
    "data2020['risk4'].value_counts()"
   ]
  },
  {
   "cell_type": "code",
   "execution_count": 56,
   "metadata": {},
   "outputs": [
    {
     "data": {
      "text/plain": [
       "0     192953\n",
       "N      57887\n",
       "NA     19472\n",
       "1        888\n",
       "Name: risk5, dtype: int64"
      ]
     },
     "execution_count": 56,
     "metadata": {},
     "output_type": "execute_result"
    }
   ],
   "source": [
    "# fill the empty cells with NA \n",
    "data2020['risk5'].fillna('NA', inplace = True)\n",
    "\n",
    "# check 'aplace' column\n",
    "data2020['risk5'].value_counts()"
   ]
  },
  {
   "cell_type": "code",
   "execution_count": 57,
   "metadata": {},
   "outputs": [
    {
     "data": {
      "text/plain": [
       "NA      221486\n",
       "40        2322\n",
       "84        2309\n",
       "57        1895\n",
       "          1808\n",
       "         ...  \n",
       "11.0         3\n",
       "45.0         2\n",
       "66.0         2\n",
       "95           1\n",
       "75.0         1\n",
       "Name: hprov, Length: 152, dtype: int64"
      ]
     },
     "execution_count": 57,
     "metadata": {},
     "output_type": "execute_result"
    }
   ],
   "source": [
    "# fill the empty cells with NA \n",
    "data2020['hprov'].fillna('NA', inplace = True)\n",
    "\n",
    "# check 'aplace' column\n",
    "data2020['hprov'].value_counts()"
   ]
  },
  {
   "cell_type": "code",
   "execution_count": 58,
   "metadata": {},
   "outputs": [
    {
     "data": {
      "text/plain": [
       "0    270570\n",
       "1       630\n",
       "Name: mass_casualty, dtype: int64"
      ]
     },
     "execution_count": 58,
     "metadata": {},
     "output_type": "execute_result"
    }
   ],
   "source": [
    "# fill the empty cells with NA \n",
    "data2020['mass_casualty'].fillna('NA', inplace = True)\n",
    "\n",
    "# check 'aplace' column\n",
    "data2020['mass_casualty'].value_counts()"
   ]
  },
  {
   "cell_type": "code",
   "execution_count": null,
   "metadata": {},
   "outputs": [],
   "source": []
  },
  {
   "cell_type": "markdown",
   "metadata": {},
   "source": [
    "#### Year 2021\n"
   ]
  },
  {
   "cell_type": "code",
   "execution_count": 8,
   "metadata": {},
   "outputs": [
    {
     "data": {
      "text/html": [
       "<div>\n",
       "<style scoped>\n",
       "    .dataframe tbody tr th:only-of-type {\n",
       "        vertical-align: middle;\n",
       "    }\n",
       "\n",
       "    .dataframe tbody tr th {\n",
       "        vertical-align: top;\n",
       "    }\n",
       "\n",
       "    .dataframe thead th {\n",
       "        text-align: right;\n",
       "    }\n",
       "</style>\n",
       "<table border=\"1\" class=\"dataframe\">\n",
       "  <thead>\n",
       "    <tr style=\"text-align: right;\">\n",
       "      <th></th>\n",
       "      <th>sex</th>\n",
       "      <th>age</th>\n",
       "      <th>occu</th>\n",
       "      <th>adate</th>\n",
       "      <th>atime</th>\n",
       "      <th>hdate</th>\n",
       "      <th>htime</th>\n",
       "      <th>aplace</th>\n",
       "      <th>aampur</th>\n",
       "      <th>atumbon</th>\n",
       "      <th>...</th>\n",
       "      <th>injt</th>\n",
       "      <th>injfrom</th>\n",
       "      <th>risk1</th>\n",
       "      <th>risk2</th>\n",
       "      <th>risk3</th>\n",
       "      <th>risk4</th>\n",
       "      <th>risk5</th>\n",
       "      <th>hprov</th>\n",
       "      <th>rdate</th>\n",
       "      <th>mass_casualty</th>\n",
       "    </tr>\n",
       "  </thead>\n",
       "  <tbody>\n",
       "    <tr>\n",
       "      <td>0</td>\n",
       "      <td>NaN</td>\n",
       "      <td>40.0</td>\n",
       "      <td>5</td>\n",
       "      <td>1/1/2021</td>\n",
       "      <td>1/1/2021</td>\n",
       "      <td>1/1/2021</td>\n",
       "      <td>1/1/2021</td>\n",
       "      <td>67</td>\n",
       "      <td>8</td>\n",
       "      <td>5</td>\n",
       "      <td>...</td>\n",
       "      <td>NaN</td>\n",
       "      <td>NaN</td>\n",
       "      <td>N</td>\n",
       "      <td>N</td>\n",
       "      <td>N</td>\n",
       "      <td>N</td>\n",
       "      <td>N</td>\n",
       "      <td>NaN</td>\n",
       "      <td>0/0/0 00:00:00</td>\n",
       "      <td>0</td>\n",
       "    </tr>\n",
       "    <tr>\n",
       "      <td>1</td>\n",
       "      <td>1.0</td>\n",
       "      <td>20.0</td>\n",
       "      <td>8</td>\n",
       "      <td>1/1/2021</td>\n",
       "      <td>1/1/2021</td>\n",
       "      <td>1/1/2021</td>\n",
       "      <td>1/1/2021</td>\n",
       "      <td>67</td>\n",
       "      <td>8</td>\n",
       "      <td>NaN</td>\n",
       "      <td>...</td>\n",
       "      <td>NaN</td>\n",
       "      <td>NaN</td>\n",
       "      <td>N</td>\n",
       "      <td>N</td>\n",
       "      <td>N</td>\n",
       "      <td>N</td>\n",
       "      <td>N</td>\n",
       "      <td>NaN</td>\n",
       "      <td>0/0/0 00:00:00</td>\n",
       "      <td>0</td>\n",
       "    </tr>\n",
       "    <tr>\n",
       "      <td>2</td>\n",
       "      <td>1.0</td>\n",
       "      <td>13.0</td>\n",
       "      <td>17</td>\n",
       "      <td>1/1/2021</td>\n",
       "      <td>1/1/2021</td>\n",
       "      <td>1/1/2021</td>\n",
       "      <td>1/1/2021</td>\n",
       "      <td>67</td>\n",
       "      <td>8</td>\n",
       "      <td>4</td>\n",
       "      <td>...</td>\n",
       "      <td>N</td>\n",
       "      <td>NaN</td>\n",
       "      <td>N</td>\n",
       "      <td>N</td>\n",
       "      <td>N</td>\n",
       "      <td>NaN</td>\n",
       "      <td>N</td>\n",
       "      <td>NaN</td>\n",
       "      <td>0/0/0 00:00:00</td>\n",
       "      <td>0</td>\n",
       "    </tr>\n",
       "    <tr>\n",
       "      <td>3</td>\n",
       "      <td>1.0</td>\n",
       "      <td>28.0</td>\n",
       "      <td>5</td>\n",
       "      <td>1/1/2021</td>\n",
       "      <td>NaN</td>\n",
       "      <td>1/1/2021</td>\n",
       "      <td>1/1/2021</td>\n",
       "      <td>67</td>\n",
       "      <td>8</td>\n",
       "      <td>NaN</td>\n",
       "      <td>...</td>\n",
       "      <td>N</td>\n",
       "      <td>NaN</td>\n",
       "      <td>N</td>\n",
       "      <td>N</td>\n",
       "      <td>N</td>\n",
       "      <td>NaN</td>\n",
       "      <td>N</td>\n",
       "      <td>NaN</td>\n",
       "      <td>0/0/0 00:00:00</td>\n",
       "      <td>0</td>\n",
       "    </tr>\n",
       "    <tr>\n",
       "      <td>4</td>\n",
       "      <td>1.0</td>\n",
       "      <td>26.0</td>\n",
       "      <td>5</td>\n",
       "      <td>1/1/2021</td>\n",
       "      <td>1/1/2021</td>\n",
       "      <td>1/1/2021</td>\n",
       "      <td>1/1/2021</td>\n",
       "      <td>67</td>\n",
       "      <td>8</td>\n",
       "      <td>NaN</td>\n",
       "      <td>...</td>\n",
       "      <td>NaN</td>\n",
       "      <td>NaN</td>\n",
       "      <td>N</td>\n",
       "      <td>N</td>\n",
       "      <td>N</td>\n",
       "      <td>N</td>\n",
       "      <td>N</td>\n",
       "      <td>NaN</td>\n",
       "      <td>0/0/0 00:00:00</td>\n",
       "      <td>0</td>\n",
       "    </tr>\n",
       "  </tbody>\n",
       "</table>\n",
       "<p>5 rows × 24 columns</p>\n",
       "</div>"
      ],
      "text/plain": [
       "   sex   age occu     adate     atime     hdate     htime aplace aampur  \\\n",
       "0  NaN  40.0    5  1/1/2021  1/1/2021  1/1/2021  1/1/2021     67      8   \n",
       "1  1.0  20.0    8  1/1/2021  1/1/2021  1/1/2021  1/1/2021     67      8   \n",
       "2  1.0  13.0   17  1/1/2021  1/1/2021  1/1/2021  1/1/2021     67      8   \n",
       "3  1.0  28.0    5  1/1/2021       NaN  1/1/2021  1/1/2021     67      8   \n",
       "4  1.0  26.0    5  1/1/2021  1/1/2021  1/1/2021  1/1/2021     67      8   \n",
       "\n",
       "  atumbon  ... injt injfrom risk1 risk2 risk3 risk4 risk5 hprov  \\\n",
       "0       5  ...  NaN     NaN     N     N     N     N     N   NaN   \n",
       "1     NaN  ...  NaN     NaN     N     N     N     N     N   NaN   \n",
       "2       4  ...    N     NaN     N     N     N   NaN     N   NaN   \n",
       "3     NaN  ...    N     NaN     N     N     N   NaN     N   NaN   \n",
       "4     NaN  ...  NaN     NaN     N     N     N     N     N   NaN   \n",
       "\n",
       "            rdate mass_casualty  \n",
       "0  0/0/0 00:00:00             0  \n",
       "1  0/0/0 00:00:00             0  \n",
       "2  0/0/0 00:00:00             0  \n",
       "3  0/0/0 00:00:00             0  \n",
       "4  0/0/0 00:00:00             0  \n",
       "\n",
       "[5 rows x 24 columns]"
      ]
     },
     "execution_count": 8,
     "metadata": {},
     "output_type": "execute_result"
    }
   ],
   "source": [
    "data2021 = pd.read_csv('is-2021.csv')  \n",
    "data2021.head()"
   ]
  },
  {
   "cell_type": "code",
   "execution_count": 59,
   "metadata": {},
   "outputs": [
    {
     "data": {
      "text/plain": [
       "1.0     82774\n",
       "5.0     16146\n",
       "7.0     13831\n",
       "1       12766\n",
       "4.0     12030\n",
       "        ...  \n",
       "98.0        1\n",
       "96.0        1\n",
       "44.0        1\n",
       "43.0        1\n",
       "99.0        1\n",
       "Name: aampur, Length: 99, dtype: int64"
      ]
     },
     "execution_count": 59,
     "metadata": {},
     "output_type": "execute_result"
    }
   ],
   "source": [
    "# fill the empty cells with NA \n",
    "data2021['aampur'].fillna('NA', inplace = True)\n",
    "\n",
    "# check 'aplace' column\n",
    "data2021['aampur'].value_counts()"
   ]
  },
  {
   "cell_type": "code",
   "execution_count": 60,
   "metadata": {},
   "outputs": [
    {
     "data": {
      "text/plain": [
       "1     57525\n",
       "NA    26862\n",
       "2     24287\n",
       "3     18883\n",
       "4     18487\n",
       "6     15151\n",
       "5     14216\n",
       "7     11046\n",
       "8      8451\n",
       "10     7725\n",
       "9      7188\n",
       "11     6483\n",
       "13     5533\n",
       "12     5427\n",
       "14     4475\n",
       "15     3130\n",
       "16     2894\n",
       "17     2825\n",
       "18     1933\n",
       "20     1166\n",
       "19      840\n",
       "21      775\n",
       "22      699\n",
       "23      217\n",
       "25      176\n",
       "24      140\n",
       "        138\n",
       "27       72\n",
       "26       50\n",
       "0        42\n",
       "28       13\n",
       "99        4\n",
       "65        3\n",
       "98        2\n",
       "95        1\n",
       "96        1\n",
       "97        1\n",
       "Name: atumbon, dtype: int64"
      ]
     },
     "execution_count": 60,
     "metadata": {},
     "output_type": "execute_result"
    }
   ],
   "source": [
    "# fill the empty cells with NA \n",
    "data2021['atumbon'].fillna('NA', inplace = True)\n",
    "\n",
    "# check 'aplace' column\n",
    "data2021['atumbon'].value_counts()"
   ]
  },
  {
   "cell_type": "code",
   "execution_count": 61,
   "metadata": {},
   "outputs": [
    {
     "data": {
      "text/plain": [
       "1     241386\n",
       "N       5364\n",
       "3         50\n",
       "2         33\n",
       "NA        22\n",
       "4          5\n",
       "0          1\n",
       "Name: injby, dtype: int64"
      ]
     },
     "execution_count": 61,
     "metadata": {},
     "output_type": "execute_result"
    }
   ],
   "source": [
    "# fill the empty cells with NA \n",
    "data2021['injby'].fillna('NA', inplace = True)\n",
    "\n",
    "# check 'aplace' column\n",
    "data2021['injby'].value_counts()"
   ]
  },
  {
   "cell_type": "code",
   "execution_count": 62,
   "metadata": {},
   "outputs": [
    {
     "data": {
      "text/plain": [
       "0     240101\n",
       "NA      2986\n",
       "1       2626\n",
       "N       1124\n",
       "n         17\n",
       "2          6\n",
       "9          1\n",
       "Name: injoccu, dtype: int64"
      ]
     },
     "execution_count": 62,
     "metadata": {},
     "output_type": "execute_result"
    }
   ],
   "source": [
    "# fill the empty cells with NA \n",
    "data2021['injoccu'].fillna('NA', inplace = True)\n",
    "\n",
    "# check 'aplace' column\n",
    "data2021['injoccu'].value_counts()"
   ]
  },
  {
   "cell_type": "code",
   "execution_count": 63,
   "metadata": {},
   "outputs": [
    {
     "data": {
      "text/plain": [
       "2     195455\n",
       "3      39575\n",
       "1       5843\n",
       "NA      4235\n",
       "N       1700\n",
       "8         41\n",
       "0          7\n",
       "9          4\n",
       "n          1\n",
       "Name: injp, dtype: int64"
      ]
     },
     "execution_count": 63,
     "metadata": {},
     "output_type": "execute_result"
    }
   ],
   "source": [
    "# fill the empty cells with NA \n",
    "data2021['injp'].fillna('NA', inplace = True)\n",
    "\n",
    "# check 'aplace' column\n",
    "data2021['injp'].value_counts()"
   ]
  },
  {
   "cell_type": "code",
   "execution_count": 64,
   "metadata": {},
   "outputs": [
    {
     "data": {
      "text/plain": [
       "2      203693\n",
       "5       11867\n",
       "1       10728\n",
       "NA       6145\n",
       "4        5658\n",
       "3        2620\n",
       "99       2288\n",
       "6        1356\n",
       "15        611\n",
       "18        285\n",
       "9         283\n",
       "0         248\n",
       "7         246\n",
       "N         243\n",
       "8         221\n",
       "16        103\n",
       "           56\n",
       "10         34\n",
       "98         31\n",
       "19         29\n",
       "12         22\n",
       "14         20\n",
       "n          12\n",
       "191        12\n",
       "13         11\n",
       "182         9\n",
       "17          8\n",
       "902         6\n",
       "193         5\n",
       "181         5\n",
       "11          5\n",
       "999         1\n",
       "Name: injt, dtype: int64"
      ]
     },
     "execution_count": 64,
     "metadata": {},
     "output_type": "execute_result"
    }
   ],
   "source": [
    "# fill the empty cells with NA \n",
    "data2021['injt'].fillna('NA', inplace = True)\n",
    "\n",
    "# check 'aplace' column\n",
    "data2021['injt'].value_counts()"
   ]
  },
  {
   "cell_type": "code",
   "execution_count": 65,
   "metadata": {},
   "outputs": [
    {
     "data": {
      "text/plain": [
       "21      110859\n",
       "2        35033\n",
       "5        27556\n",
       "4        16339\n",
       "12       14899\n",
       "NA       12683\n",
       "99        7521\n",
       "18        7379\n",
       "6         3530\n",
       "20        2522\n",
       "1         1747\n",
       "7         1174\n",
       "3         1106\n",
       "19        1044\n",
       "15         900\n",
       "N          807\n",
       "23         482\n",
       "24         434\n",
       "16         166\n",
       "10         146\n",
       "8          145\n",
       "9          142\n",
       "22          72\n",
       "11          40\n",
       "241         32\n",
       "242         19\n",
       "13          17\n",
       "14          13\n",
       "26          11\n",
       "17          10\n",
       "30           8\n",
       "243          6\n",
       "0            6\n",
       "1021         4\n",
       "1005         2\n",
       "29           2\n",
       "25           2\n",
       "28           1\n",
       "1004         1\n",
       "27           1\n",
       "Name: injfrom, dtype: int64"
      ]
     },
     "execution_count": 65,
     "metadata": {},
     "output_type": "execute_result"
    }
   ],
   "source": [
    "# fill the empty cells with NA \n",
    "data2021['injfrom'].fillna('NA', inplace = True)\n",
    "\n",
    "# check 'aplace' column\n",
    "data2021['injfrom'].value_counts()"
   ]
  },
  {
   "cell_type": "code",
   "execution_count": 66,
   "metadata": {},
   "outputs": [
    {
     "data": {
      "text/plain": [
       "0     166864\n",
       "1      44873\n",
       "N      33065\n",
       "NA       957\n",
       "O        722\n",
       "2        294\n",
       "9         86\n",
       "Name: risk1, dtype: int64"
      ]
     },
     "execution_count": 66,
     "metadata": {},
     "output_type": "execute_result"
    }
   ],
   "source": [
    "# fill the empty cells with NA \n",
    "data2021['risk1'].fillna('NA', inplace = True)\n",
    "\n",
    "# check 'aplace' column\n",
    "data2021['risk1'].value_counts()"
   ]
  },
  {
   "cell_type": "code",
   "execution_count": 67,
   "metadata": {},
   "outputs": [
    {
     "data": {
      "text/plain": [
       "0     192175\n",
       "N      49485\n",
       "NA      2422\n",
       "1        956\n",
       "O        796\n",
       "2        646\n",
       "9        381\n",
       "Name: risk2, dtype: int64"
      ]
     },
     "execution_count": 67,
     "metadata": {},
     "output_type": "execute_result"
    }
   ],
   "source": [
    "# fill the empty cells with NA \n",
    "data2021['risk2'].fillna('NA', inplace = True)\n",
    "\n",
    "# check 'aplace' column\n",
    "data2021['risk2'].value_counts()"
   ]
  },
  {
   "cell_type": "code",
   "execution_count": 68,
   "metadata": {},
   "outputs": [
    {
     "data": {
      "text/plain": [
       "NA    171600\n",
       "0      47147\n",
       "N      22630\n",
       "1       4635\n",
       "2        552\n",
       "9        297\n",
       "Name: risk3, dtype: int64"
      ]
     },
     "execution_count": 68,
     "metadata": {},
     "output_type": "execute_result"
    }
   ],
   "source": [
    "# fill the empty cells with NA \n",
    "data2021['risk3'].fillna('NA', inplace = True)\n",
    "\n",
    "# check 'aplace' column\n",
    "data2021['risk3'].value_counts()"
   ]
  },
  {
   "cell_type": "code",
   "execution_count": 69,
   "metadata": {},
   "outputs": [
    {
     "data": {
      "text/plain": [
       "0     157404\n",
       "N      29858\n",
       "1      29383\n",
       "NA     29364\n",
       "2        732\n",
       "9        120\n",
       "Name: risk4, dtype: int64"
      ]
     },
     "execution_count": 69,
     "metadata": {},
     "output_type": "execute_result"
    }
   ],
   "source": [
    "# fill the empty cells with NA \n",
    "data2021['risk4'].fillna('NA', inplace = True)\n",
    "\n",
    "# check 'aplace' column\n",
    "data2021['risk4'].value_counts()"
   ]
  },
  {
   "cell_type": "code",
   "execution_count": 70,
   "metadata": {},
   "outputs": [
    {
     "data": {
      "text/plain": [
       "0     159113\n",
       "N      72181\n",
       "NA     14980\n",
       "1        587\n",
       "Name: risk5, dtype: int64"
      ]
     },
     "execution_count": 70,
     "metadata": {},
     "output_type": "execute_result"
    }
   ],
   "source": [
    "# fill the empty cells with NA \n",
    "data2021['risk5'].fillna('NA', inplace = True)\n",
    "\n",
    "# check 'aplace' column\n",
    "data2021['risk5'].value_counts()"
   ]
  },
  {
   "cell_type": "code",
   "execution_count": 71,
   "metadata": {},
   "outputs": [
    {
     "data": {
      "text/plain": [
       "NA      204332\n",
       "40.0      2471\n",
       "84.0      2144\n",
       "34.0      1936\n",
       "41.0      1801\n",
       "         ...  \n",
       "81.0         7\n",
       "75.0         6\n",
       "23.0         4\n",
       "95.0         2\n",
       "97.0         1\n",
       "Name: hprov, Length: 79, dtype: int64"
      ]
     },
     "execution_count": 71,
     "metadata": {},
     "output_type": "execute_result"
    }
   ],
   "source": [
    "# fill the empty cells with NA \n",
    "data2021['hprov'].fillna('NA', inplace = True)\n",
    "\n",
    "# check 'aplace' column\n",
    "data2021['hprov'].value_counts()"
   ]
  },
  {
   "cell_type": "code",
   "execution_count": 72,
   "metadata": {},
   "outputs": [
    {
     "data": {
      "text/plain": [
       "0    246238\n",
       "1       623\n",
       "Name: mass_casualty, dtype: int64"
      ]
     },
     "execution_count": 72,
     "metadata": {},
     "output_type": "execute_result"
    }
   ],
   "source": [
    "# fill the empty cells with NA \n",
    "data2021['mass_casualty'].fillna('NA', inplace = True)\n",
    "\n",
    "# check 'aplace' column\n",
    "data2021['mass_casualty'].value_counts()"
   ]
  },
  {
   "cell_type": "code",
   "execution_count": 5,
   "metadata": {},
   "outputs": [],
   "source": [
    "# import the required packages\n",
    "import numpy as np\n",
    "import pandas as pd\n",
    "from sklearn.model_selection import train_test_split\n",
    "from sklearn.linear_model import LogisticRegression,LinearRegression\n",
    "from sklearn.tree import DecisionTreeClassifier,DecisionTreeRegressor\n",
    "from sklearn.neural_network import MLPClassifier,MLPRegressor\n",
    "from sklearn. ensemble import RandomForestClassifier, RandomForestRegressor, AdaBoostClassifier,AdaBoostRegressor\n",
    "from sklearn.svm import SVC,SVR\n",
    "from sklearn.metrics import mean_squared_error,mean_absolute_error\n",
    "from math import sqrt\n",
    "from sklearn.model_selection import cross_val_score, cross_validate\n",
    "from sklearn.model_selection import GridSearchCV\n",
    "from sklearn.metrics import mean_squared_error\n",
    "import statsmodels.api as sm\n",
    "import matplotlib.pyplot as plt\n",
    "%matplotlib inline\n",
    "import warnings\n",
    "warnings.filterwarnings('ignore')"
   ]
  },
  {
   "cell_type": "code",
   "execution_count": 2,
   "metadata": {},
   "outputs": [],
   "source": [
    "import pandas as pd\n",
    "# Define Model Inputs (X) and Output (y)\n",
    "allplaces = pd.read_csv('adateplace.csv')  \n",
    "\n",
    "X = allplaces.drop('countap18',axis=1)\n",
    "y = allplaces[\"countap18\"]\n"
   ]
  },
  {
   "cell_type": "markdown",
   "metadata": {},
   "source": [
    "### Logistic Regression Model"
   ]
  },
  {
   "cell_type": "code",
   "execution_count": 7,
   "metadata": {},
   "outputs": [
    {
     "ename": "ValueError",
     "evalue": "could not convert string to float: '(blank)'",
     "output_type": "error",
     "traceback": [
      "\u001b[0;31m---------------------------------------------------------------------------\u001b[0m",
      "\u001b[0;31mValueError\u001b[0m                                Traceback (most recent call last)",
      "\u001b[0;32m/var/folders/6f/w525zg4d60x69xwjm3x4hqtc0000gp/T/ipykernel_1496/475250293.py\u001b[0m in \u001b[0;36m<module>\u001b[0;34m\u001b[0m\n\u001b[1;32m      8\u001b[0m \u001b[0;31m# run enough iterations to let the model converge\u001b[0m\u001b[0;34m\u001b[0m\u001b[0;34m\u001b[0m\u001b[0m\n\u001b[1;32m      9\u001b[0m \u001b[0;31m# Fit the model to the training set\u001b[0m\u001b[0;34m\u001b[0m\u001b[0;34m\u001b[0m\u001b[0m\n\u001b[0;32m---> 10\u001b[0;31m \u001b[0mlg\u001b[0m\u001b[0;34m.\u001b[0m\u001b[0mfit\u001b[0m\u001b[0;34m(\u001b[0m\u001b[0mx_train\u001b[0m\u001b[0;34m,\u001b[0m\u001b[0my_train\u001b[0m\u001b[0;34m)\u001b[0m\u001b[0;34m\u001b[0m\u001b[0;34m\u001b[0m\u001b[0m\n\u001b[0m\u001b[1;32m     11\u001b[0m \u001b[0;34m\u001b[0m\u001b[0m\n\u001b[1;32m     12\u001b[0m \u001b[0;31m# Train Accuracy\u001b[0m\u001b[0;34m\u001b[0m\u001b[0;34m\u001b[0m\u001b[0m\n",
      "\u001b[0;32m~/opt/anaconda3/lib/python3.9/site-packages/sklearn/linear_model/_logistic.py\u001b[0m in \u001b[0;36mfit\u001b[0;34m(self, X, y, sample_weight)\u001b[0m\n\u001b[1;32m   1342\u001b[0m             \u001b[0m_dtype\u001b[0m \u001b[0;34m=\u001b[0m \u001b[0;34m[\u001b[0m\u001b[0mnp\u001b[0m\u001b[0;34m.\u001b[0m\u001b[0mfloat64\u001b[0m\u001b[0;34m,\u001b[0m \u001b[0mnp\u001b[0m\u001b[0;34m.\u001b[0m\u001b[0mfloat32\u001b[0m\u001b[0;34m]\u001b[0m\u001b[0;34m\u001b[0m\u001b[0;34m\u001b[0m\u001b[0m\n\u001b[1;32m   1343\u001b[0m \u001b[0;34m\u001b[0m\u001b[0m\n\u001b[0;32m-> 1344\u001b[0;31m         X, y = self._validate_data(X, y, accept_sparse='csr', dtype=_dtype,\n\u001b[0m\u001b[1;32m   1345\u001b[0m                                    \u001b[0morder\u001b[0m\u001b[0;34m=\u001b[0m\u001b[0;34m\"C\"\u001b[0m\u001b[0;34m,\u001b[0m\u001b[0;34m\u001b[0m\u001b[0;34m\u001b[0m\u001b[0m\n\u001b[1;32m   1346\u001b[0m                                    accept_large_sparse=solver != 'liblinear')\n",
      "\u001b[0;32m~/opt/anaconda3/lib/python3.9/site-packages/sklearn/base.py\u001b[0m in \u001b[0;36m_validate_data\u001b[0;34m(self, X, y, reset, validate_separately, **check_params)\u001b[0m\n\u001b[1;32m    431\u001b[0m                 \u001b[0my\u001b[0m \u001b[0;34m=\u001b[0m \u001b[0mcheck_array\u001b[0m\u001b[0;34m(\u001b[0m\u001b[0my\u001b[0m\u001b[0;34m,\u001b[0m \u001b[0;34m**\u001b[0m\u001b[0mcheck_y_params\u001b[0m\u001b[0;34m)\u001b[0m\u001b[0;34m\u001b[0m\u001b[0;34m\u001b[0m\u001b[0m\n\u001b[1;32m    432\u001b[0m             \u001b[0;32melse\u001b[0m\u001b[0;34m:\u001b[0m\u001b[0;34m\u001b[0m\u001b[0;34m\u001b[0m\u001b[0m\n\u001b[0;32m--> 433\u001b[0;31m                 \u001b[0mX\u001b[0m\u001b[0;34m,\u001b[0m \u001b[0my\u001b[0m \u001b[0;34m=\u001b[0m \u001b[0mcheck_X_y\u001b[0m\u001b[0;34m(\u001b[0m\u001b[0mX\u001b[0m\u001b[0;34m,\u001b[0m \u001b[0my\u001b[0m\u001b[0;34m,\u001b[0m \u001b[0;34m**\u001b[0m\u001b[0mcheck_params\u001b[0m\u001b[0;34m)\u001b[0m\u001b[0;34m\u001b[0m\u001b[0;34m\u001b[0m\u001b[0m\n\u001b[0m\u001b[1;32m    434\u001b[0m             \u001b[0mout\u001b[0m \u001b[0;34m=\u001b[0m \u001b[0mX\u001b[0m\u001b[0;34m,\u001b[0m \u001b[0my\u001b[0m\u001b[0;34m\u001b[0m\u001b[0;34m\u001b[0m\u001b[0m\n\u001b[1;32m    435\u001b[0m \u001b[0;34m\u001b[0m\u001b[0m\n",
      "\u001b[0;32m~/opt/anaconda3/lib/python3.9/site-packages/sklearn/utils/validation.py\u001b[0m in \u001b[0;36minner_f\u001b[0;34m(*args, **kwargs)\u001b[0m\n\u001b[1;32m     61\u001b[0m             \u001b[0mextra_args\u001b[0m \u001b[0;34m=\u001b[0m \u001b[0mlen\u001b[0m\u001b[0;34m(\u001b[0m\u001b[0margs\u001b[0m\u001b[0;34m)\u001b[0m \u001b[0;34m-\u001b[0m \u001b[0mlen\u001b[0m\u001b[0;34m(\u001b[0m\u001b[0mall_args\u001b[0m\u001b[0;34m)\u001b[0m\u001b[0;34m\u001b[0m\u001b[0;34m\u001b[0m\u001b[0m\n\u001b[1;32m     62\u001b[0m             \u001b[0;32mif\u001b[0m \u001b[0mextra_args\u001b[0m \u001b[0;34m<=\u001b[0m \u001b[0;36m0\u001b[0m\u001b[0;34m:\u001b[0m\u001b[0;34m\u001b[0m\u001b[0;34m\u001b[0m\u001b[0m\n\u001b[0;32m---> 63\u001b[0;31m                 \u001b[0;32mreturn\u001b[0m \u001b[0mf\u001b[0m\u001b[0;34m(\u001b[0m\u001b[0;34m*\u001b[0m\u001b[0margs\u001b[0m\u001b[0;34m,\u001b[0m \u001b[0;34m**\u001b[0m\u001b[0mkwargs\u001b[0m\u001b[0;34m)\u001b[0m\u001b[0;34m\u001b[0m\u001b[0;34m\u001b[0m\u001b[0m\n\u001b[0m\u001b[1;32m     64\u001b[0m \u001b[0;34m\u001b[0m\u001b[0m\n\u001b[1;32m     65\u001b[0m             \u001b[0;31m# extra_args > 0\u001b[0m\u001b[0;34m\u001b[0m\u001b[0;34m\u001b[0m\u001b[0m\n",
      "\u001b[0;32m~/opt/anaconda3/lib/python3.9/site-packages/sklearn/utils/validation.py\u001b[0m in \u001b[0;36mcheck_X_y\u001b[0;34m(X, y, accept_sparse, accept_large_sparse, dtype, order, copy, force_all_finite, ensure_2d, allow_nd, multi_output, ensure_min_samples, ensure_min_features, y_numeric, estimator)\u001b[0m\n\u001b[1;32m    869\u001b[0m         \u001b[0;32mraise\u001b[0m \u001b[0mValueError\u001b[0m\u001b[0;34m(\u001b[0m\u001b[0;34m\"y cannot be None\"\u001b[0m\u001b[0;34m)\u001b[0m\u001b[0;34m\u001b[0m\u001b[0;34m\u001b[0m\u001b[0m\n\u001b[1;32m    870\u001b[0m \u001b[0;34m\u001b[0m\u001b[0m\n\u001b[0;32m--> 871\u001b[0;31m     X = check_array(X, accept_sparse=accept_sparse,\n\u001b[0m\u001b[1;32m    872\u001b[0m                     \u001b[0maccept_large_sparse\u001b[0m\u001b[0;34m=\u001b[0m\u001b[0maccept_large_sparse\u001b[0m\u001b[0;34m,\u001b[0m\u001b[0;34m\u001b[0m\u001b[0;34m\u001b[0m\u001b[0m\n\u001b[1;32m    873\u001b[0m                     \u001b[0mdtype\u001b[0m\u001b[0;34m=\u001b[0m\u001b[0mdtype\u001b[0m\u001b[0;34m,\u001b[0m \u001b[0morder\u001b[0m\u001b[0;34m=\u001b[0m\u001b[0morder\u001b[0m\u001b[0;34m,\u001b[0m \u001b[0mcopy\u001b[0m\u001b[0;34m=\u001b[0m\u001b[0mcopy\u001b[0m\u001b[0;34m,\u001b[0m\u001b[0;34m\u001b[0m\u001b[0;34m\u001b[0m\u001b[0m\n",
      "\u001b[0;32m~/opt/anaconda3/lib/python3.9/site-packages/sklearn/utils/validation.py\u001b[0m in \u001b[0;36minner_f\u001b[0;34m(*args, **kwargs)\u001b[0m\n\u001b[1;32m     61\u001b[0m             \u001b[0mextra_args\u001b[0m \u001b[0;34m=\u001b[0m \u001b[0mlen\u001b[0m\u001b[0;34m(\u001b[0m\u001b[0margs\u001b[0m\u001b[0;34m)\u001b[0m \u001b[0;34m-\u001b[0m \u001b[0mlen\u001b[0m\u001b[0;34m(\u001b[0m\u001b[0mall_args\u001b[0m\u001b[0;34m)\u001b[0m\u001b[0;34m\u001b[0m\u001b[0;34m\u001b[0m\u001b[0m\n\u001b[1;32m     62\u001b[0m             \u001b[0;32mif\u001b[0m \u001b[0mextra_args\u001b[0m \u001b[0;34m<=\u001b[0m \u001b[0;36m0\u001b[0m\u001b[0;34m:\u001b[0m\u001b[0;34m\u001b[0m\u001b[0;34m\u001b[0m\u001b[0m\n\u001b[0;32m---> 63\u001b[0;31m                 \u001b[0;32mreturn\u001b[0m \u001b[0mf\u001b[0m\u001b[0;34m(\u001b[0m\u001b[0;34m*\u001b[0m\u001b[0margs\u001b[0m\u001b[0;34m,\u001b[0m \u001b[0;34m**\u001b[0m\u001b[0mkwargs\u001b[0m\u001b[0;34m)\u001b[0m\u001b[0;34m\u001b[0m\u001b[0;34m\u001b[0m\u001b[0m\n\u001b[0m\u001b[1;32m     64\u001b[0m \u001b[0;34m\u001b[0m\u001b[0m\n\u001b[1;32m     65\u001b[0m             \u001b[0;31m# extra_args > 0\u001b[0m\u001b[0;34m\u001b[0m\u001b[0;34m\u001b[0m\u001b[0m\n",
      "\u001b[0;32m~/opt/anaconda3/lib/python3.9/site-packages/sklearn/utils/validation.py\u001b[0m in \u001b[0;36mcheck_array\u001b[0;34m(array, accept_sparse, accept_large_sparse, dtype, order, copy, force_all_finite, ensure_2d, allow_nd, ensure_min_samples, ensure_min_features, estimator)\u001b[0m\n\u001b[1;32m    671\u001b[0m                     \u001b[0marray\u001b[0m \u001b[0;34m=\u001b[0m \u001b[0marray\u001b[0m\u001b[0;34m.\u001b[0m\u001b[0mastype\u001b[0m\u001b[0;34m(\u001b[0m\u001b[0mdtype\u001b[0m\u001b[0;34m,\u001b[0m \u001b[0mcasting\u001b[0m\u001b[0;34m=\u001b[0m\u001b[0;34m\"unsafe\"\u001b[0m\u001b[0;34m,\u001b[0m \u001b[0mcopy\u001b[0m\u001b[0;34m=\u001b[0m\u001b[0;32mFalse\u001b[0m\u001b[0;34m)\u001b[0m\u001b[0;34m\u001b[0m\u001b[0;34m\u001b[0m\u001b[0m\n\u001b[1;32m    672\u001b[0m                 \u001b[0;32melse\u001b[0m\u001b[0;34m:\u001b[0m\u001b[0;34m\u001b[0m\u001b[0;34m\u001b[0m\u001b[0m\n\u001b[0;32m--> 673\u001b[0;31m                     \u001b[0marray\u001b[0m \u001b[0;34m=\u001b[0m \u001b[0mnp\u001b[0m\u001b[0;34m.\u001b[0m\u001b[0masarray\u001b[0m\u001b[0;34m(\u001b[0m\u001b[0marray\u001b[0m\u001b[0;34m,\u001b[0m \u001b[0morder\u001b[0m\u001b[0;34m=\u001b[0m\u001b[0morder\u001b[0m\u001b[0;34m,\u001b[0m \u001b[0mdtype\u001b[0m\u001b[0;34m=\u001b[0m\u001b[0mdtype\u001b[0m\u001b[0;34m)\u001b[0m\u001b[0;34m\u001b[0m\u001b[0;34m\u001b[0m\u001b[0m\n\u001b[0m\u001b[1;32m    674\u001b[0m             \u001b[0;32mexcept\u001b[0m \u001b[0mComplexWarning\u001b[0m \u001b[0;32mas\u001b[0m \u001b[0mcomplex_warning\u001b[0m\u001b[0;34m:\u001b[0m\u001b[0;34m\u001b[0m\u001b[0;34m\u001b[0m\u001b[0m\n\u001b[1;32m    675\u001b[0m                 raise ValueError(\"Complex data not supported\\n\"\n",
      "\u001b[0;32m~/opt/anaconda3/lib/python3.9/site-packages/numpy/core/_asarray.py\u001b[0m in \u001b[0;36masarray\u001b[0;34m(a, dtype, order, like)\u001b[0m\n\u001b[1;32m    100\u001b[0m         \u001b[0;32mreturn\u001b[0m \u001b[0m_asarray_with_like\u001b[0m\u001b[0;34m(\u001b[0m\u001b[0ma\u001b[0m\u001b[0;34m,\u001b[0m \u001b[0mdtype\u001b[0m\u001b[0;34m=\u001b[0m\u001b[0mdtype\u001b[0m\u001b[0;34m,\u001b[0m \u001b[0morder\u001b[0m\u001b[0;34m=\u001b[0m\u001b[0morder\u001b[0m\u001b[0;34m,\u001b[0m \u001b[0mlike\u001b[0m\u001b[0;34m=\u001b[0m\u001b[0mlike\u001b[0m\u001b[0;34m)\u001b[0m\u001b[0;34m\u001b[0m\u001b[0;34m\u001b[0m\u001b[0m\n\u001b[1;32m    101\u001b[0m \u001b[0;34m\u001b[0m\u001b[0m\n\u001b[0;32m--> 102\u001b[0;31m     \u001b[0;32mreturn\u001b[0m \u001b[0marray\u001b[0m\u001b[0;34m(\u001b[0m\u001b[0ma\u001b[0m\u001b[0;34m,\u001b[0m \u001b[0mdtype\u001b[0m\u001b[0;34m,\u001b[0m \u001b[0mcopy\u001b[0m\u001b[0;34m=\u001b[0m\u001b[0;32mFalse\u001b[0m\u001b[0;34m,\u001b[0m \u001b[0morder\u001b[0m\u001b[0;34m=\u001b[0m\u001b[0morder\u001b[0m\u001b[0;34m)\u001b[0m\u001b[0;34m\u001b[0m\u001b[0;34m\u001b[0m\u001b[0m\n\u001b[0m\u001b[1;32m    103\u001b[0m \u001b[0;34m\u001b[0m\u001b[0m\n\u001b[1;32m    104\u001b[0m \u001b[0;34m\u001b[0m\u001b[0m\n",
      "\u001b[0;32m~/opt/anaconda3/lib/python3.9/site-packages/pandas/core/generic.py\u001b[0m in \u001b[0;36m__array__\u001b[0;34m(self, dtype)\u001b[0m\n\u001b[1;32m   1991\u001b[0m \u001b[0;34m\u001b[0m\u001b[0m\n\u001b[1;32m   1992\u001b[0m     \u001b[0;32mdef\u001b[0m \u001b[0m__array__\u001b[0m\u001b[0;34m(\u001b[0m\u001b[0mself\u001b[0m\u001b[0;34m,\u001b[0m \u001b[0mdtype\u001b[0m\u001b[0;34m:\u001b[0m \u001b[0mNpDtype\u001b[0m \u001b[0;34m|\u001b[0m \u001b[0;32mNone\u001b[0m \u001b[0;34m=\u001b[0m \u001b[0;32mNone\u001b[0m\u001b[0;34m)\u001b[0m \u001b[0;34m->\u001b[0m \u001b[0mnp\u001b[0m\u001b[0;34m.\u001b[0m\u001b[0mndarray\u001b[0m\u001b[0;34m:\u001b[0m\u001b[0;34m\u001b[0m\u001b[0;34m\u001b[0m\u001b[0m\n\u001b[0;32m-> 1993\u001b[0;31m         \u001b[0;32mreturn\u001b[0m \u001b[0mnp\u001b[0m\u001b[0;34m.\u001b[0m\u001b[0masarray\u001b[0m\u001b[0;34m(\u001b[0m\u001b[0mself\u001b[0m\u001b[0;34m.\u001b[0m\u001b[0m_values\u001b[0m\u001b[0;34m,\u001b[0m \u001b[0mdtype\u001b[0m\u001b[0;34m=\u001b[0m\u001b[0mdtype\u001b[0m\u001b[0;34m)\u001b[0m\u001b[0;34m\u001b[0m\u001b[0;34m\u001b[0m\u001b[0m\n\u001b[0m\u001b[1;32m   1994\u001b[0m \u001b[0;34m\u001b[0m\u001b[0m\n\u001b[1;32m   1995\u001b[0m     def __array_wrap__(\n",
      "\u001b[0;32m~/opt/anaconda3/lib/python3.9/site-packages/numpy/core/_asarray.py\u001b[0m in \u001b[0;36masarray\u001b[0;34m(a, dtype, order, like)\u001b[0m\n\u001b[1;32m    100\u001b[0m         \u001b[0;32mreturn\u001b[0m \u001b[0m_asarray_with_like\u001b[0m\u001b[0;34m(\u001b[0m\u001b[0ma\u001b[0m\u001b[0;34m,\u001b[0m \u001b[0mdtype\u001b[0m\u001b[0;34m=\u001b[0m\u001b[0mdtype\u001b[0m\u001b[0;34m,\u001b[0m \u001b[0morder\u001b[0m\u001b[0;34m=\u001b[0m\u001b[0morder\u001b[0m\u001b[0;34m,\u001b[0m \u001b[0mlike\u001b[0m\u001b[0;34m=\u001b[0m\u001b[0mlike\u001b[0m\u001b[0;34m)\u001b[0m\u001b[0;34m\u001b[0m\u001b[0;34m\u001b[0m\u001b[0m\n\u001b[1;32m    101\u001b[0m \u001b[0;34m\u001b[0m\u001b[0m\n\u001b[0;32m--> 102\u001b[0;31m     \u001b[0;32mreturn\u001b[0m \u001b[0marray\u001b[0m\u001b[0;34m(\u001b[0m\u001b[0ma\u001b[0m\u001b[0;34m,\u001b[0m \u001b[0mdtype\u001b[0m\u001b[0;34m,\u001b[0m \u001b[0mcopy\u001b[0m\u001b[0;34m=\u001b[0m\u001b[0;32mFalse\u001b[0m\u001b[0;34m,\u001b[0m \u001b[0morder\u001b[0m\u001b[0;34m=\u001b[0m\u001b[0morder\u001b[0m\u001b[0;34m)\u001b[0m\u001b[0;34m\u001b[0m\u001b[0;34m\u001b[0m\u001b[0m\n\u001b[0m\u001b[1;32m    103\u001b[0m \u001b[0;34m\u001b[0m\u001b[0m\n\u001b[1;32m    104\u001b[0m \u001b[0;34m\u001b[0m\u001b[0m\n",
      "\u001b[0;31mValueError\u001b[0m: could not convert string to float: '(blank)'"
     ]
    }
   ],
   "source": [
    "# Split both Inputs (X) and Ouput (y) into training set (80%) and testing set (20%)\n",
    "x_train, x_test, y_train, y_test = train_test_split(X, y, test_size=0.2, random_state = 4)\n",
    "\n",
    "\n",
    "\n",
    "#Logistic Regression\n",
    "# Create the model \"lg\"\n",
    "lg = LogisticRegression(solver='lbfgs', # optimization solver\n",
    " max_iter=10000) # maximum iterations: set a big number \n",
    "# run enough iterations to let the model converge\n",
    "# Fit the model to the training set\n",
    "lg.fit(x_train,y_train)\n",
    "\n",
    "# Train Accuracy\n",
    "print(lg.score(x_train,y_train),'(Train Accuracy)')\n",
    "# Test Accuracy\n",
    "print(lg.score(x_test, y_test), '(Test Accuracy)')"
   ]
  },
  {
   "cell_type": "markdown",
   "metadata": {},
   "source": [
    "## Decision Tree Model"
   ]
  },
  {
   "cell_type": "code",
   "execution_count": null,
   "metadata": {},
   "outputs": [],
   "source": [
    "# Evaluate the Model using K-folds Cross validation\n",
    "results  = cross_validate(dt, X, y, scoring='accuracy', cv=5, return_train_score = True)\n",
    "print('train_score: ', results['train_score'])\n",
    "print('test_score: ', results['test_score'])\n",
    "\n",
    "print('cross val training accuracy is:', sum(results['train_score'])/len(results['train_score']))\n",
    "print('cross val testing accuracy is:', sum(results['test_score'])/len(results['test_score']))"
   ]
  },
  {
   "cell_type": "markdown",
   "metadata": {},
   "source": [
    "### Artifical Neural Network Model "
   ]
  },
  {
   "cell_type": "code",
   "execution_count": 12,
   "metadata": {},
   "outputs": [
    {
     "ename": "NameError",
     "evalue": "name 'mlp' is not defined",
     "output_type": "error",
     "traceback": [
      "\u001b[0;31m---------------------------------------------------------------------------\u001b[0m",
      "\u001b[0;31mNameError\u001b[0m                                 Traceback (most recent call last)",
      "\u001b[0;32m/var/folders/6f/w525zg4d60x69xwjm3x4hqtc0000gp/T/ipykernel_1496/96476208.py\u001b[0m in \u001b[0;36m<module>\u001b[0;34m\u001b[0m\n\u001b[1;32m      1\u001b[0m \u001b[0;31m# Evaluate the Model using K-folds Cross validation\u001b[0m\u001b[0;34m\u001b[0m\u001b[0;34m\u001b[0m\u001b[0m\n\u001b[0;32m----> 2\u001b[0;31m \u001b[0mresults\u001b[0m  \u001b[0;34m=\u001b[0m \u001b[0mcross_validate\u001b[0m\u001b[0;34m(\u001b[0m\u001b[0mmlp\u001b[0m\u001b[0;34m,\u001b[0m \u001b[0mX\u001b[0m\u001b[0;34m,\u001b[0m \u001b[0my\u001b[0m\u001b[0;34m,\u001b[0m \u001b[0mscoring\u001b[0m\u001b[0;34m=\u001b[0m\u001b[0;34m'accuracy'\u001b[0m\u001b[0;34m,\u001b[0m \u001b[0mcv\u001b[0m\u001b[0;34m=\u001b[0m\u001b[0;36m5\u001b[0m\u001b[0;34m,\u001b[0m \u001b[0mreturn_train_score\u001b[0m \u001b[0;34m=\u001b[0m \u001b[0;32mTrue\u001b[0m\u001b[0;34m)\u001b[0m\u001b[0;34m\u001b[0m\u001b[0;34m\u001b[0m\u001b[0m\n\u001b[0m\u001b[1;32m      3\u001b[0m \u001b[0mprint\u001b[0m\u001b[0;34m(\u001b[0m\u001b[0;34m'train_score: '\u001b[0m\u001b[0;34m,\u001b[0m \u001b[0mresults\u001b[0m\u001b[0;34m[\u001b[0m\u001b[0;34m'train_score'\u001b[0m\u001b[0;34m]\u001b[0m\u001b[0;34m)\u001b[0m\u001b[0;34m\u001b[0m\u001b[0;34m\u001b[0m\u001b[0m\n\u001b[1;32m      4\u001b[0m \u001b[0mprint\u001b[0m\u001b[0;34m(\u001b[0m\u001b[0;34m'test_score: '\u001b[0m\u001b[0;34m,\u001b[0m \u001b[0mresults\u001b[0m\u001b[0;34m[\u001b[0m\u001b[0;34m'test_score'\u001b[0m\u001b[0;34m]\u001b[0m\u001b[0;34m)\u001b[0m\u001b[0;34m\u001b[0m\u001b[0;34m\u001b[0m\u001b[0m\n\u001b[1;32m      5\u001b[0m \u001b[0;34m\u001b[0m\u001b[0m\n",
      "\u001b[0;31mNameError\u001b[0m: name 'mlp' is not defined"
     ]
    }
   ],
   "source": [
    "# Evaluate the Model using K-folds Cross validation\n",
    "results  = cross_validate(mlp, X, y, scoring='accuracy', cv=5, return_train_score = True)\n",
    "print('train_score: ', results['train_score'])\n",
    "print('test_score: ', results['test_score'])\n",
    "\n",
    "print('cross val training accuracy is:', sum(results['train_score'])/len(results['train_score']))\n",
    "print('cross val testing accuracy is:', sum(results['test_score'])/len(results['test_score']))"
   ]
  },
  {
   "cell_type": "markdown",
   "metadata": {},
   "source": [
    "### Random Forest(Ensemble Model) "
   ]
  },
  {
   "cell_type": "code",
   "execution_count": 9,
   "metadata": {},
   "outputs": [
    {
     "ename": "NameError",
     "evalue": "name 'rf_cls' is not defined",
     "output_type": "error",
     "traceback": [
      "\u001b[0;31m---------------------------------------------------------------------------\u001b[0m",
      "\u001b[0;31mNameError\u001b[0m                                 Traceback (most recent call last)",
      "\u001b[0;32m/var/folders/6f/w525zg4d60x69xwjm3x4hqtc0000gp/T/ipykernel_1496/4225394349.py\u001b[0m in \u001b[0;36m<module>\u001b[0;34m\u001b[0m\n\u001b[1;32m      1\u001b[0m \u001b[0;31m# Evaluate the Model using K-folds Cross validation\u001b[0m\u001b[0;34m\u001b[0m\u001b[0;34m\u001b[0m\u001b[0m\n\u001b[0;32m----> 2\u001b[0;31m \u001b[0mresults\u001b[0m  \u001b[0;34m=\u001b[0m \u001b[0mcross_validate\u001b[0m\u001b[0;34m(\u001b[0m\u001b[0mrf_cls\u001b[0m\u001b[0;34m,\u001b[0m \u001b[0mX\u001b[0m\u001b[0;34m,\u001b[0m \u001b[0my\u001b[0m\u001b[0;34m,\u001b[0m \u001b[0mscoring\u001b[0m\u001b[0;34m=\u001b[0m\u001b[0;34m'accuracy'\u001b[0m\u001b[0;34m,\u001b[0m \u001b[0mcv\u001b[0m\u001b[0;34m=\u001b[0m\u001b[0;36m5\u001b[0m\u001b[0;34m,\u001b[0m \u001b[0mreturn_train_score\u001b[0m \u001b[0;34m=\u001b[0m \u001b[0;32mTrue\u001b[0m\u001b[0;34m)\u001b[0m\u001b[0;34m\u001b[0m\u001b[0;34m\u001b[0m\u001b[0m\n\u001b[0m\u001b[1;32m      3\u001b[0m \u001b[0mprint\u001b[0m\u001b[0;34m(\u001b[0m\u001b[0;34m'train_score: '\u001b[0m\u001b[0;34m,\u001b[0m \u001b[0mresults\u001b[0m\u001b[0;34m[\u001b[0m\u001b[0;34m'train_score'\u001b[0m\u001b[0;34m]\u001b[0m\u001b[0;34m)\u001b[0m\u001b[0;34m\u001b[0m\u001b[0;34m\u001b[0m\u001b[0m\n\u001b[1;32m      4\u001b[0m \u001b[0mprint\u001b[0m\u001b[0;34m(\u001b[0m\u001b[0;34m'test_score: '\u001b[0m\u001b[0;34m,\u001b[0m \u001b[0mresults\u001b[0m\u001b[0;34m[\u001b[0m\u001b[0;34m'test_score'\u001b[0m\u001b[0;34m]\u001b[0m\u001b[0;34m)\u001b[0m\u001b[0;34m\u001b[0m\u001b[0;34m\u001b[0m\u001b[0m\n\u001b[1;32m      5\u001b[0m \u001b[0;34m\u001b[0m\u001b[0m\n",
      "\u001b[0;31mNameError\u001b[0m: name 'rf_cls' is not defined"
     ]
    }
   ],
   "source": [
    "# Evaluate the Model using K-folds Cross validation\n",
    "results  = cross_validate(rf_cls, X, y, scoring='accuracy', cv=5, return_train_score = True)\n",
    "print('train_score: ', results['train_score'])\n",
    "print('test_score: ', results['test_score'])\n",
    "\n",
    "print('cross val training accuracy is:', sum(results['train_score'])/len(results['train_score']))\n",
    "print('cross val testing accuracy is:', sum(results['test_score'])/len(results['test_score']))"
   ]
  },
  {
   "cell_type": "code",
   "execution_count": null,
   "metadata": {},
   "outputs": [],
   "source": []
  }
 ],
 "metadata": {
  "kernelspec": {
   "display_name": "Python 3 (ipykernel)",
   "language": "python",
   "name": "python3"
  },
  "language_info": {
   "codemirror_mode": {
    "name": "ipython",
    "version": 3
   },
   "file_extension": ".py",
   "mimetype": "text/x-python",
   "name": "python",
   "nbconvert_exporter": "python",
   "pygments_lexer": "ipython3",
   "version": "3.9.7"
  }
 },
 "nbformat": 4,
 "nbformat_minor": 2
}
